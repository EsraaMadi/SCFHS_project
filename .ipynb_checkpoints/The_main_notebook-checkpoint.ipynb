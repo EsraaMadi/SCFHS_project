{
 "cells": [
  {
   "cell_type": "markdown",
   "metadata": {},
   "source": [
    "### Table of contents"
   ]
  },
  {
   "cell_type": "markdown",
   "metadata": {},
   "source": [
    "* [Objectives](#Objectives)\n",
    "* [EDA + Data Cleaning](#EDA)\n",
    "* [Modeling](#modeling)\n",
    "* [Summary](#Summary)\n",
    "* [Resources](#Resources)"
   ]
  },
  {
   "cell_type": "code",
   "execution_count": 1,
   "metadata": {},
   "outputs": [
    {
     "data": {
      "text/html": [
       "<script type=\"text/javascript\">window.PlotlyConfig = {MathJaxConfig: 'local'};</script><script type=\"text/javascript\">if (window.MathJax) {MathJax.Hub.Config({SVG: {font: \"STIX-Web\"}});}</script><script>requirejs.config({paths: { 'plotly': ['https://cdn.plot.ly/plotly-latest.min']},});if(!window._Plotly) {require(['plotly'],function(plotly) {window._Plotly=plotly;});}</script>"
      ],
      "text/vnd.plotly.v1+html": [
       "<script type=\"text/javascript\">window.PlotlyConfig = {MathJaxConfig: 'local'};</script><script type=\"text/javascript\">if (window.MathJax) {MathJax.Hub.Config({SVG: {font: \"STIX-Web\"}});}</script><script>requirejs.config({paths: { 'plotly': ['https://cdn.plot.ly/plotly-latest.min']},});if(!window._Plotly) {require(['plotly'],function(plotly) {window._Plotly=plotly;});}</script>"
      ]
     },
     "metadata": {},
     "output_type": "display_data"
    }
   ],
   "source": [
    "# libraries \n",
    "import pandas as pd \n",
    "import numpy as np\n",
    "import pandas_profiling\n",
    "\n",
    "import seaborn as sns # for statistical graphs\n",
    "from plotly import plotly # for interactive plots \n",
    "import cufflinks # for connecting pandas with plotly to create plots easily \n",
    "cufflinks.go_offline()"
   ]
  },
  {
   "cell_type": "markdown",
   "metadata": {},
   "source": [
    "\n",
    "<a id='Objectives'></a>\n",
    "\n",
    "## Objectives:\n",
    "\n",
    "\n",
    "\n",
    "\n",
    "> **To test a null hypothesis about the share of the number of people who die in the world for each Hijri (Islamic calendar) month.**\n",
    "\n",
    "---"
   ]
  },
  {
   "cell_type": "markdown",
   "metadata": {},
   "source": [
    "#### The main question: \n",
    "* The Muslim community think people tend to die more (often) in the month of Shaban (8). is this true?\n",
    "\n",
    "> **The null Hypothesis:** People tend to die more in the month of Shaban (8th month).\n",
    "\n",
    "> **The alternative Hypothesis:** There is no difference between the rate of dying for all months.\n"
   ]
  },
  {
   "cell_type": "markdown",
   "metadata": {},
   "source": [
    "<a id='EDA'></a>\n",
    "\n",
    "## Data Exploration and Data Cleaning\n"
   ]
  },
  {
   "cell_type": "markdown",
   "metadata": {},
   "source": [
    "* The data were collected from: \n",
    "> https://services.amana-md.gov.sa/eservicesite/Inq/DeathInquiry.aspx\n",
    "\n",
    "* Since we are only interested in answering the Deaths month count hypothosis question, we have collected only the dates of burial.\n",
    "\n",
    "* In the Islamic world, burial is mostly happens the next day when the person is dead, so we will assume generally that this is dying date.\n",
    "\n",
    "\n"
   ]
  },
  {
   "cell_type": "code",
   "execution_count": 2,
   "metadata": {},
   "outputs": [],
   "source": [
    "# reading the data \n",
    "df = pd.read_csv('data/data.csv',names=['date_of_burial'])"
   ]
  },
  {
   "cell_type": "code",
   "execution_count": 3,
   "metadata": {
    "scrolled": true
   },
   "outputs": [
    {
     "data": {
      "text/html": [
       "<div>\n",
       "<style scoped>\n",
       "    .dataframe tbody tr th:only-of-type {\n",
       "        vertical-align: middle;\n",
       "    }\n",
       "\n",
       "    .dataframe tbody tr th {\n",
       "        vertical-align: top;\n",
       "    }\n",
       "\n",
       "    .dataframe thead th {\n",
       "        text-align: right;\n",
       "    }\n",
       "</style>\n",
       "<table border=\"1\" class=\"dataframe\">\n",
       "  <thead>\n",
       "    <tr style=\"text-align: right;\">\n",
       "      <th></th>\n",
       "      <th>date_of_burial</th>\n",
       "    </tr>\n",
       "  </thead>\n",
       "  <tbody>\n",
       "    <tr>\n",
       "      <th>113938</th>\n",
       "      <td>1439/12/30</td>\n",
       "    </tr>\n",
       "    <tr>\n",
       "      <th>113939</th>\n",
       "      <td>1439/12/30</td>\n",
       "    </tr>\n",
       "    <tr>\n",
       "      <th>113940</th>\n",
       "      <td>1439/12/30</td>\n",
       "    </tr>\n",
       "    <tr>\n",
       "      <th>113941</th>\n",
       "      <td>1439/12/30</td>\n",
       "    </tr>\n",
       "    <tr>\n",
       "      <th>113942</th>\n",
       "      <td>1439/12/30</td>\n",
       "    </tr>\n",
       "  </tbody>\n",
       "</table>\n",
       "</div>"
      ],
      "text/plain": [
       "       date_of_burial\n",
       "113938     1439/12/30\n",
       "113939     1439/12/30\n",
       "113940     1439/12/30\n",
       "113941     1439/12/30\n",
       "113942     1439/12/30"
      ]
     },
     "execution_count": 3,
     "metadata": {},
     "output_type": "execute_result"
    }
   ],
   "source": [
    "# last 5 records \n",
    "df.tail()"
   ]
  },
  {
   "cell_type": "code",
   "execution_count": 4,
   "metadata": {},
   "outputs": [
    {
     "data": {
      "text/plain": [
       "113943"
      ]
     },
     "execution_count": 4,
     "metadata": {},
     "output_type": "execute_result"
    }
   ],
   "source": [
    "# sumber of samples\n",
    "len(df)"
   ]
  },
  {
   "cell_type": "code",
   "execution_count": 5,
   "metadata": {},
   "outputs": [
    {
     "data": {
      "text/plain": [
       "date_of_burial    0\n",
       "dtype: int64"
      ]
     },
     "execution_count": 5,
     "metadata": {},
     "output_type": "execute_result"
    }
   ],
   "source": [
    "# missing values \n",
    "df.isnull().sum() \n",
    "# Ans: no missing "
   ]
  },
  {
   "cell_type": "markdown",
   "metadata": {},
   "source": [
    "**Correcting the Date**"
   ]
  },
  {
   "cell_type": "code",
   "execution_count": 6,
   "metadata": {},
   "outputs": [
    {
     "data": {
      "text/html": [
       "<div>\n",
       "<style scoped>\n",
       "    .dataframe tbody tr th:only-of-type {\n",
       "        vertical-align: middle;\n",
       "    }\n",
       "\n",
       "    .dataframe tbody tr th {\n",
       "        vertical-align: top;\n",
       "    }\n",
       "\n",
       "    .dataframe thead th {\n",
       "        text-align: right;\n",
       "    }\n",
       "</style>\n",
       "<table border=\"1\" class=\"dataframe\">\n",
       "  <thead>\n",
       "    <tr style=\"text-align: right;\">\n",
       "      <th></th>\n",
       "      <th>date_of_burial</th>\n",
       "      <th>year</th>\n",
       "      <th>month</th>\n",
       "      <th>day</th>\n",
       "    </tr>\n",
       "  </thead>\n",
       "  <tbody>\n",
       "    <tr>\n",
       "      <th>100171</th>\n",
       "      <td>1437/12/27</td>\n",
       "      <td>1437</td>\n",
       "      <td>12</td>\n",
       "      <td>27</td>\n",
       "    </tr>\n",
       "    <tr>\n",
       "      <th>19664</th>\n",
       "      <td>1419/07/07</td>\n",
       "      <td>1419</td>\n",
       "      <td>07</td>\n",
       "      <td>07</td>\n",
       "    </tr>\n",
       "    <tr>\n",
       "      <th>17347</th>\n",
       "      <td>1418/11/03</td>\n",
       "      <td>1418</td>\n",
       "      <td>11</td>\n",
       "      <td>03</td>\n",
       "    </tr>\n",
       "  </tbody>\n",
       "</table>\n",
       "</div>"
      ],
      "text/plain": [
       "       date_of_burial  year month day\n",
       "100171     1437/12/27  1437    12  27\n",
       "19664      1419/07/07  1419    07  07\n",
       "17347      1418/11/03  1418    11  03"
      ]
     },
     "execution_count": 6,
     "metadata": {},
     "output_type": "execute_result"
    }
   ],
   "source": [
    "\n",
    "\n",
    "# wrangling the data \n",
    "# function to extract time variables\n",
    "get_year = lambda hijri_date: hijri_date.split('/')[0]\n",
    "get_month = lambda hijri_date: hijri_date.split('/')[1]\n",
    "get_day = lambda hijri_date: hijri_date.split('/')[2]\n",
    "\n",
    "# applying those functions\n",
    "df['year'] = df.date_of_burial.apply(get_year)\n",
    "df['month'] = df.date_of_burial.apply(get_month)\n",
    "df['day'] = df.date_of_burial.apply(get_day)\n",
    "\n",
    "# check\n",
    "df.sample(3)"
   ]
  },
  {
   "cell_type": "markdown",
   "metadata": {},
   "source": [
    "> The reason why we are not using pandas **to_date** function is because it will not deal with these dates as hijri dates which has different structure from the Gregorian date.\n",
    "\n",
    "> I decided to deal with them as a normal strings."
   ]
  },
  {
   "cell_type": "markdown",
   "metadata": {},
   "source": [
    "**Different data types problems check**"
   ]
  },
  {
   "cell_type": "code",
   "execution_count": 7,
   "metadata": {},
   "outputs": [
    {
     "data": {
      "text/plain": [
       "1.0"
      ]
     },
     "execution_count": 7,
     "metadata": {},
     "output_type": "execute_result"
    }
   ],
   "source": [
    "# Do we have dates in each row or maybe some other variable (non-numeric variable)? \n",
    "df.year.str.isnumeric().mean() \n",
    "\n",
    "# this means that all years are in a good format "
   ]
  },
  {
   "cell_type": "markdown",
   "metadata": {},
   "source": [
    "**Dealing with missing values (may happen when extracting the data)**"
   ]
  },
  {
   "cell_type": "code",
   "execution_count": 8,
   "metadata": {},
   "outputs": [
    {
     "data": {
      "text/plain": [
       "1    0.0\n",
       "3    0.0\n",
       "4    0.0\n",
       "5    0.0\n",
       "6    0.0\n",
       "Name: year, dtype: float64"
      ]
     },
     "execution_count": 8,
     "metadata": {},
     "output_type": "execute_result"
    }
   ],
   "source": [
    "# Do we make some duplicates when we collected the data? \n",
    "# Note: because the website is giving us the data in order, we can use pandas diff (for the year feature) function to answer this\n",
    "# example: year (next row) -  year == negative value --> this means that we have duplicated the extraction\n",
    "df.year.astype('int').diff().nsmallest()\n"
   ]
  },
  {
   "cell_type": "markdown",
   "metadata": {},
   "source": [
    "> No Negative values --> No duplicates when extracting the data."
   ]
  },
  {
   "cell_type": "code",
   "execution_count": 9,
   "metadata": {
    "scrolled": true
   },
   "outputs": [
    {
     "data": {
      "text/html": [
       "<div>\n",
       "<style scoped>\n",
       "    .dataframe tbody tr th:only-of-type {\n",
       "        vertical-align: middle;\n",
       "    }\n",
       "\n",
       "    .dataframe tbody tr th {\n",
       "        vertical-align: top;\n",
       "    }\n",
       "\n",
       "    .dataframe thead th {\n",
       "        text-align: right;\n",
       "    }\n",
       "</style>\n",
       "<table border=\"1\" class=\"dataframe\">\n",
       "  <thead>\n",
       "    <tr style=\"text-align: right;\">\n",
       "      <th></th>\n",
       "      <th>year</th>\n",
       "      <th>month</th>\n",
       "      <th>day</th>\n",
       "    </tr>\n",
       "  </thead>\n",
       "  <tbody>\n",
       "    <tr>\n",
       "      <th>count</th>\n",
       "      <td>113943.000000</td>\n",
       "      <td>113943.000000</td>\n",
       "      <td>113943.000000</td>\n",
       "    </tr>\n",
       "    <tr>\n",
       "      <th>mean</th>\n",
       "      <td>1427.945034</td>\n",
       "      <td>6.754439</td>\n",
       "      <td>15.366683</td>\n",
       "    </tr>\n",
       "    <tr>\n",
       "      <th>std</th>\n",
       "      <td>7.994828</td>\n",
       "      <td>3.515362</td>\n",
       "      <td>8.584238</td>\n",
       "    </tr>\n",
       "    <tr>\n",
       "      <th>min</th>\n",
       "      <td>1364.000000</td>\n",
       "      <td>1.000000</td>\n",
       "      <td>1.000000</td>\n",
       "    </tr>\n",
       "    <tr>\n",
       "      <th>25%</th>\n",
       "      <td>1422.000000</td>\n",
       "      <td>4.000000</td>\n",
       "      <td>8.000000</td>\n",
       "    </tr>\n",
       "    <tr>\n",
       "      <th>50%</th>\n",
       "      <td>1429.000000</td>\n",
       "      <td>7.000000</td>\n",
       "      <td>15.000000</td>\n",
       "    </tr>\n",
       "    <tr>\n",
       "      <th>75%</th>\n",
       "      <td>1435.000000</td>\n",
       "      <td>10.000000</td>\n",
       "      <td>23.000000</td>\n",
       "    </tr>\n",
       "    <tr>\n",
       "      <th>max</th>\n",
       "      <td>1439.000000</td>\n",
       "      <td>17.000000</td>\n",
       "      <td>30.000000</td>\n",
       "    </tr>\n",
       "  </tbody>\n",
       "</table>\n",
       "</div>"
      ],
      "text/plain": [
       "                year          month            day\n",
       "count  113943.000000  113943.000000  113943.000000\n",
       "mean     1427.945034       6.754439      15.366683\n",
       "std         7.994828       3.515362       8.584238\n",
       "min      1364.000000       1.000000       1.000000\n",
       "25%      1422.000000       4.000000       8.000000\n",
       "50%      1429.000000       7.000000      15.000000\n",
       "75%      1435.000000      10.000000      23.000000\n",
       "max      1439.000000      17.000000      30.000000"
      ]
     },
     "execution_count": 9,
     "metadata": {},
     "output_type": "execute_result"
    }
   ],
   "source": [
    "# fast exploration of month counts\n",
    "df[['year','month','day']].astype('int').describe()"
   ]
  },
  {
   "cell_type": "markdown",
   "metadata": {},
   "source": [
    "> We can see that we have a month of a value 17."
   ]
  },
  {
   "cell_type": "code",
   "execution_count": 10,
   "metadata": {},
   "outputs": [
    {
     "data": {
      "text/html": [
       "<div>\n",
       "<style scoped>\n",
       "    .dataframe tbody tr th:only-of-type {\n",
       "        vertical-align: middle;\n",
       "    }\n",
       "\n",
       "    .dataframe tbody tr th {\n",
       "        vertical-align: top;\n",
       "    }\n",
       "\n",
       "    .dataframe thead th {\n",
       "        text-align: right;\n",
       "    }\n",
       "</style>\n",
       "<table border=\"1\" class=\"dataframe\">\n",
       "  <thead>\n",
       "    <tr style=\"text-align: right;\">\n",
       "      <th></th>\n",
       "      <th>date_of_burial</th>\n",
       "      <th>year</th>\n",
       "      <th>month</th>\n",
       "      <th>day</th>\n",
       "    </tr>\n",
       "  </thead>\n",
       "  <tbody>\n",
       "    <tr>\n",
       "      <th>35721</th>\n",
       "      <td>1423/17/17</td>\n",
       "      <td>1423</td>\n",
       "      <td>17</td>\n",
       "      <td>17</td>\n",
       "    </tr>\n",
       "    <tr>\n",
       "      <th>35722</th>\n",
       "      <td>1423/17/17</td>\n",
       "      <td>1423</td>\n",
       "      <td>17</td>\n",
       "      <td>17</td>\n",
       "    </tr>\n",
       "    <tr>\n",
       "      <th>35723</th>\n",
       "      <td>1423/17/17</td>\n",
       "      <td>1423</td>\n",
       "      <td>17</td>\n",
       "      <td>17</td>\n",
       "    </tr>\n",
       "    <tr>\n",
       "      <th>35724</th>\n",
       "      <td>1423/17/17</td>\n",
       "      <td>1423</td>\n",
       "      <td>17</td>\n",
       "      <td>17</td>\n",
       "    </tr>\n",
       "  </tbody>\n",
       "</table>\n",
       "</div>"
      ],
      "text/plain": [
       "      date_of_burial  year month day\n",
       "35721     1423/17/17  1423    17  17\n",
       "35722     1423/17/17  1423    17  17\n",
       "35723     1423/17/17  1423    17  17\n",
       "35724     1423/17/17  1423    17  17"
      ]
     },
     "execution_count": 10,
     "metadata": {},
     "output_type": "execute_result"
    }
   ],
   "source": [
    "# Extracting the row with the month 17 \n",
    "df[df.month=='17']"
   ]
  },
  {
   "cell_type": "markdown",
   "metadata": {},
   "source": [
    "> Four records with uncorrect month values.\n",
    ">> Can we correct that by looking around these values? "
   ]
  },
  {
   "cell_type": "code",
   "execution_count": 11,
   "metadata": {},
   "outputs": [
    {
     "data": {
      "text/html": [
       "<div>\n",
       "<style scoped>\n",
       "    .dataframe tbody tr th:only-of-type {\n",
       "        vertical-align: middle;\n",
       "    }\n",
       "\n",
       "    .dataframe tbody tr th {\n",
       "        vertical-align: top;\n",
       "    }\n",
       "\n",
       "    .dataframe thead th {\n",
       "        text-align: right;\n",
       "    }\n",
       "</style>\n",
       "<table border=\"1\" class=\"dataframe\">\n",
       "  <thead>\n",
       "    <tr style=\"text-align: right;\">\n",
       "      <th></th>\n",
       "      <th>date_of_burial</th>\n",
       "      <th>year</th>\n",
       "      <th>month</th>\n",
       "      <th>day</th>\n",
       "    </tr>\n",
       "  </thead>\n",
       "  <tbody>\n",
       "    <tr>\n",
       "      <th>35719</th>\n",
       "      <td>1423/12/30</td>\n",
       "      <td>1423</td>\n",
       "      <td>12</td>\n",
       "      <td>30</td>\n",
       "    </tr>\n",
       "    <tr>\n",
       "      <th>35720</th>\n",
       "      <td>1423/12/30</td>\n",
       "      <td>1423</td>\n",
       "      <td>12</td>\n",
       "      <td>30</td>\n",
       "    </tr>\n",
       "    <tr>\n",
       "      <th>35721</th>\n",
       "      <td>1423/17/17</td>\n",
       "      <td>1423</td>\n",
       "      <td>17</td>\n",
       "      <td>17</td>\n",
       "    </tr>\n",
       "    <tr>\n",
       "      <th>35722</th>\n",
       "      <td>1423/17/17</td>\n",
       "      <td>1423</td>\n",
       "      <td>17</td>\n",
       "      <td>17</td>\n",
       "    </tr>\n",
       "    <tr>\n",
       "      <th>35723</th>\n",
       "      <td>1423/17/17</td>\n",
       "      <td>1423</td>\n",
       "      <td>17</td>\n",
       "      <td>17</td>\n",
       "    </tr>\n",
       "    <tr>\n",
       "      <th>35724</th>\n",
       "      <td>1423/17/17</td>\n",
       "      <td>1423</td>\n",
       "      <td>17</td>\n",
       "      <td>17</td>\n",
       "    </tr>\n",
       "    <tr>\n",
       "      <th>35725</th>\n",
       "      <td>1424/01/01</td>\n",
       "      <td>1424</td>\n",
       "      <td>01</td>\n",
       "      <td>01</td>\n",
       "    </tr>\n",
       "    <tr>\n",
       "      <th>35726</th>\n",
       "      <td>1424/01/01</td>\n",
       "      <td>1424</td>\n",
       "      <td>01</td>\n",
       "      <td>01</td>\n",
       "    </tr>\n",
       "  </tbody>\n",
       "</table>\n",
       "</div>"
      ],
      "text/plain": [
       "      date_of_burial  year month day\n",
       "35719     1423/12/30  1423    12  30\n",
       "35720     1423/12/30  1423    12  30\n",
       "35721     1423/17/17  1423    17  17\n",
       "35722     1423/17/17  1423    17  17\n",
       "35723     1423/17/17  1423    17  17\n",
       "35724     1423/17/17  1423    17  17\n",
       "35725     1424/01/01  1424    01  01\n",
       "35726     1424/01/01  1424    01  01"
      ]
     },
     "execution_count": 11,
     "metadata": {},
     "output_type": "execute_result"
    }
   ],
   "source": [
    "df.iloc[35719:35727,:]"
   ]
  },
  {
   "cell_type": "markdown",
   "metadata": {},
   "source": [
    "> Because we have collected the data in order, we can assume that these 17 are actually 12.\n",
    "> also by correcting the day 17 to be 30"
   ]
  },
  {
   "cell_type": "code",
   "execution_count": 12,
   "metadata": {},
   "outputs": [],
   "source": [
    "# correcting the month & day 17 \n",
    "indexes = df[df.month=='17'].index\n",
    "df.iloc[indexes,:] = ['1423/12/30','1423','12','30']\n"
   ]
  },
  {
   "cell_type": "code",
   "execution_count": 13,
   "metadata": {},
   "outputs": [
    {
     "data": {
      "text/html": [
       "<div>\n",
       "<style scoped>\n",
       "    .dataframe tbody tr th:only-of-type {\n",
       "        vertical-align: middle;\n",
       "    }\n",
       "\n",
       "    .dataframe tbody tr th {\n",
       "        vertical-align: top;\n",
       "    }\n",
       "\n",
       "    .dataframe thead th {\n",
       "        text-align: right;\n",
       "    }\n",
       "</style>\n",
       "<table border=\"1\" class=\"dataframe\">\n",
       "  <thead>\n",
       "    <tr style=\"text-align: right;\">\n",
       "      <th></th>\n",
       "      <th>date_of_burial</th>\n",
       "      <th>year</th>\n",
       "      <th>month</th>\n",
       "      <th>day</th>\n",
       "    </tr>\n",
       "  </thead>\n",
       "  <tbody>\n",
       "    <tr>\n",
       "      <th>35721</th>\n",
       "      <td>1423/12/30</td>\n",
       "      <td>1423</td>\n",
       "      <td>12</td>\n",
       "      <td>30</td>\n",
       "    </tr>\n",
       "    <tr>\n",
       "      <th>35722</th>\n",
       "      <td>1423/12/30</td>\n",
       "      <td>1423</td>\n",
       "      <td>12</td>\n",
       "      <td>30</td>\n",
       "    </tr>\n",
       "    <tr>\n",
       "      <th>35723</th>\n",
       "      <td>1423/12/30</td>\n",
       "      <td>1423</td>\n",
       "      <td>12</td>\n",
       "      <td>30</td>\n",
       "    </tr>\n",
       "    <tr>\n",
       "      <th>35724</th>\n",
       "      <td>1423/12/30</td>\n",
       "      <td>1423</td>\n",
       "      <td>12</td>\n",
       "      <td>30</td>\n",
       "    </tr>\n",
       "  </tbody>\n",
       "</table>\n",
       "</div>"
      ],
      "text/plain": [
       "      date_of_burial  year month day\n",
       "35721     1423/12/30  1423    12  30\n",
       "35722     1423/12/30  1423    12  30\n",
       "35723     1423/12/30  1423    12  30\n",
       "35724     1423/12/30  1423    12  30"
      ]
     },
     "execution_count": 13,
     "metadata": {},
     "output_type": "execute_result"
    }
   ],
   "source": [
    "# check again \n",
    "df.iloc[indexes,:]"
   ]
  },
  {
   "cell_type": "code",
   "execution_count": 14,
   "metadata": {
    "scrolled": true
   },
   "outputs": [
    {
     "data": {
      "application/vnd.plotly.v1+json": {
       "config": {
        "linkText": "Export to plot.ly",
        "plotlyServerURL": "https://plot.ly",
        "showLink": true
       },
       "data": [
        {
         "fill": "tozeroy",
         "fillcolor": "rgba(255, 153, 51, 0.3)",
         "line": {
          "color": "rgba(255, 153, 51, 1.0)",
          "dash": "solid",
          "shape": "linear",
          "width": 1.3
         },
         "mode": "lines",
         "name": "year",
         "text": "",
         "type": "scatter",
         "uid": "256c3a47-16ab-46dc-b172-1d88905a2dfd",
         "x": [
          "1364",
          "1365",
          "1366",
          "1367",
          "1368",
          "1369",
          "1370",
          "1371",
          "1372",
          "1375",
          "1376",
          "1377",
          "1378",
          "1379",
          "1380",
          "1381",
          "1382",
          "1383",
          "1384",
          "1392",
          "1393",
          "1394",
          "1395",
          "1396",
          "1397",
          "1398",
          "1399",
          "1400",
          "1401",
          "1402",
          "1403",
          "1404",
          "1405",
          "1406",
          "1407",
          "1408",
          "1409",
          "1410",
          "1411",
          "1412",
          "1413",
          "1414",
          "1415",
          "1416",
          "1417",
          "1418",
          "1419",
          "1420",
          "1421",
          "1422",
          "1423",
          "1424",
          "1425",
          "1426",
          "1427",
          "1428",
          "1429",
          "1430",
          "1431",
          "1432",
          "1433",
          "1434",
          "1435",
          "1436",
          "1437",
          "1438",
          "1439"
         ],
         "y": [
          2,
          5,
          4,
          4,
          6,
          8,
          1,
          1,
          1,
          1,
          3,
          2,
          6,
          4,
          4,
          2,
          3,
          16,
          2,
          6,
          7,
          2,
          4,
          4,
          9,
          18,
          15,
          38,
          11,
          16,
          18,
          15,
          14,
          14,
          26,
          9,
          19,
          26,
          13,
          387,
          1964,
          2668,
          3005,
          3209,
          3214,
          3313,
          3340,
          3416,
          3543,
          3489,
          3818,
          3965,
          4082,
          4035,
          4138,
          3973,
          3631,
          3401,
          4519,
          4786,
          5102,
          5174,
          5771,
          5830,
          6087,
          6134,
          7590
         ]
        }
       ],
       "layout": {
        "height": 400,
        "legend": {
         "bgcolor": "#F5F6F9",
         "font": {
          "color": "#4D5663"
         }
        },
        "paper_bgcolor": "#F5F6F9",
        "plot_bgcolor": "#F5F6F9",
        "title": "Counts of data over time",
        "titlefont": {
         "color": "#4D5663"
        },
        "width": 1000,
        "xaxis": {
         "gridcolor": "#E1E5ED",
         "showgrid": true,
         "tickfont": {
          "color": "#4D5663"
         },
         "title": "",
         "titlefont": {
          "color": "#4D5663"
         },
         "zerolinecolor": "#E1E5ED"
        },
        "yaxis": {
         "gridcolor": "#E1E5ED",
         "showgrid": true,
         "tickfont": {
          "color": "#4D5663"
         },
         "title": "",
         "titlefont": {
          "color": "#4D5663"
         },
         "zerolinecolor": "#E1E5ED"
        }
       }
      },
      "text/html": [
       "<div id=\"88755dcf-d949-471c-9367-f32e28bd63fb\" style=\"height: 400px; width: 1000px;\" class=\"plotly-graph-div\"></div><script type=\"text/javascript\">require([\"plotly\"], function(Plotly) { window.PLOTLYENV=window.PLOTLYENV || {};window.PLOTLYENV.BASE_URL=\"https://plot.ly\";Plotly.newPlot(\"88755dcf-d949-471c-9367-f32e28bd63fb\", [{\"text\": \"\", \"fill\": \"tozeroy\", \"type\": \"scatter\", \"y\": [2, 5, 4, 4, 6, 8, 1, 1, 1, 1, 3, 2, 6, 4, 4, 2, 3, 16, 2, 6, 7, 2, 4, 4, 9, 18, 15, 38, 11, 16, 18, 15, 14, 14, 26, 9, 19, 26, 13, 387, 1964, 2668, 3005, 3209, 3214, 3313, 3340, 3416, 3543, 3489, 3818, 3965, 4082, 4035, 4138, 3973, 3631, 3401, 4519, 4786, 5102, 5174, 5771, 5830, 6087, 6134, 7590], \"mode\": \"lines\", \"fillcolor\": \"rgba(255, 153, 51, 0.3)\", \"uid\": \"f29a0834-a51d-4bd5-b787-22d6e4b0558e\", \"name\": \"year\", \"line\": {\"dash\": \"solid\", \"color\": \"rgba(255, 153, 51, 1.0)\", \"width\": 1.3, \"shape\": \"linear\"}, \"x\": [\"1364\", \"1365\", \"1366\", \"1367\", \"1368\", \"1369\", \"1370\", \"1371\", \"1372\", \"1375\", \"1376\", \"1377\", \"1378\", \"1379\", \"1380\", \"1381\", \"1382\", \"1383\", \"1384\", \"1392\", \"1393\", \"1394\", \"1395\", \"1396\", \"1397\", \"1398\", \"1399\", \"1400\", \"1401\", \"1402\", \"1403\", \"1404\", \"1405\", \"1406\", \"1407\", \"1408\", \"1409\", \"1410\", \"1411\", \"1412\", \"1413\", \"1414\", \"1415\", \"1416\", \"1417\", \"1418\", \"1419\", \"1420\", \"1421\", \"1422\", \"1423\", \"1424\", \"1425\", \"1426\", \"1427\", \"1428\", \"1429\", \"1430\", \"1431\", \"1432\", \"1433\", \"1434\", \"1435\", \"1436\", \"1437\", \"1438\", \"1439\"]}], {\"legend\": {\"bgcolor\": \"#F5F6F9\", \"font\": {\"color\": \"#4D5663\"}}, \"xaxis\": {\"tickfont\": {\"color\": \"#4D5663\"}, \"title\": \"\", \"gridcolor\": \"#E1E5ED\", \"showgrid\": true, \"zerolinecolor\": \"#E1E5ED\", \"titlefont\": {\"color\": \"#4D5663\"}}, \"title\": \"Counts of data over time\", \"plot_bgcolor\": \"#F5F6F9\", \"height\": 400, \"width\": 1000, \"paper_bgcolor\": \"#F5F6F9\", \"yaxis\": {\"tickfont\": {\"color\": \"#4D5663\"}, \"title\": \"\", \"gridcolor\": \"#E1E5ED\", \"showgrid\": true, \"zerolinecolor\": \"#E1E5ED\", \"titlefont\": {\"color\": \"#4D5663\"}}, \"titlefont\": {\"color\": \"#4D5663\"}}, {\"showLink\": true, \"linkText\": \"Export to plot.ly\", \"plotlyServerURL\": \"https://plot.ly\"})});</script>"
      ],
      "text/vnd.plotly.v1+html": [
       "<div id=\"88755dcf-d949-471c-9367-f32e28bd63fb\" style=\"height: 400px; width: 1000px;\" class=\"plotly-graph-div\"></div><script type=\"text/javascript\">require([\"plotly\"], function(Plotly) { window.PLOTLYENV=window.PLOTLYENV || {};window.PLOTLYENV.BASE_URL=\"https://plot.ly\";Plotly.newPlot(\"88755dcf-d949-471c-9367-f32e28bd63fb\", [{\"text\": \"\", \"fill\": \"tozeroy\", \"type\": \"scatter\", \"y\": [2, 5, 4, 4, 6, 8, 1, 1, 1, 1, 3, 2, 6, 4, 4, 2, 3, 16, 2, 6, 7, 2, 4, 4, 9, 18, 15, 38, 11, 16, 18, 15, 14, 14, 26, 9, 19, 26, 13, 387, 1964, 2668, 3005, 3209, 3214, 3313, 3340, 3416, 3543, 3489, 3818, 3965, 4082, 4035, 4138, 3973, 3631, 3401, 4519, 4786, 5102, 5174, 5771, 5830, 6087, 6134, 7590], \"mode\": \"lines\", \"fillcolor\": \"rgba(255, 153, 51, 0.3)\", \"uid\": \"f29a0834-a51d-4bd5-b787-22d6e4b0558e\", \"name\": \"year\", \"line\": {\"dash\": \"solid\", \"color\": \"rgba(255, 153, 51, 1.0)\", \"width\": 1.3, \"shape\": \"linear\"}, \"x\": [\"1364\", \"1365\", \"1366\", \"1367\", \"1368\", \"1369\", \"1370\", \"1371\", \"1372\", \"1375\", \"1376\", \"1377\", \"1378\", \"1379\", \"1380\", \"1381\", \"1382\", \"1383\", \"1384\", \"1392\", \"1393\", \"1394\", \"1395\", \"1396\", \"1397\", \"1398\", \"1399\", \"1400\", \"1401\", \"1402\", \"1403\", \"1404\", \"1405\", \"1406\", \"1407\", \"1408\", \"1409\", \"1410\", \"1411\", \"1412\", \"1413\", \"1414\", \"1415\", \"1416\", \"1417\", \"1418\", \"1419\", \"1420\", \"1421\", \"1422\", \"1423\", \"1424\", \"1425\", \"1426\", \"1427\", \"1428\", \"1429\", \"1430\", \"1431\", \"1432\", \"1433\", \"1434\", \"1435\", \"1436\", \"1437\", \"1438\", \"1439\"]}], {\"legend\": {\"bgcolor\": \"#F5F6F9\", \"font\": {\"color\": \"#4D5663\"}}, \"xaxis\": {\"tickfont\": {\"color\": \"#4D5663\"}, \"title\": \"\", \"gridcolor\": \"#E1E5ED\", \"showgrid\": true, \"zerolinecolor\": \"#E1E5ED\", \"titlefont\": {\"color\": \"#4D5663\"}}, \"title\": \"Counts of data over time\", \"plot_bgcolor\": \"#F5F6F9\", \"height\": 400, \"width\": 1000, \"paper_bgcolor\": \"#F5F6F9\", \"yaxis\": {\"tickfont\": {\"color\": \"#4D5663\"}, \"title\": \"\", \"gridcolor\": \"#E1E5ED\", \"showgrid\": true, \"zerolinecolor\": \"#E1E5ED\", \"titlefont\": {\"color\": \"#4D5663\"}}, \"titlefont\": {\"color\": \"#4D5663\"}}, {\"showLink\": true, \"linkText\": \"Export to plot.ly\", \"plotlyServerURL\": \"https://plot.ly\"})});</script>"
      ]
     },
     "metadata": {},
     "output_type": "display_data"
    }
   ],
   "source": [
    "# How is the amount of data changing over time?\n",
    "df.year.value_counts().sort_index().iplot(kind='line',fill=True,title='Counts of data over time')"
   ]
  },
  {
   "cell_type": "markdown",
   "metadata": {},
   "source": [
    "> **Assumption:** The data started to be seriously collected starting from the year of **1412**, to remove outliers, we can start testing the hypothesis from the year **1415**."
   ]
  },
  {
   "cell_type": "code",
   "execution_count": 15,
   "metadata": {},
   "outputs": [],
   "source": [
    "# removing the outliers \n",
    "df_cleaned =  df[df.year.astype('int') >= 1415].copy()"
   ]
  },
  {
   "cell_type": "code",
   "execution_count": 16,
   "metadata": {},
   "outputs": [
    {
     "data": {
      "text/html": [
       "<div>\n",
       "<style scoped>\n",
       "    .dataframe tbody tr th:only-of-type {\n",
       "        vertical-align: middle;\n",
       "    }\n",
       "\n",
       "    .dataframe tbody tr th {\n",
       "        vertical-align: top;\n",
       "    }\n",
       "\n",
       "    .dataframe thead th {\n",
       "        text-align: right;\n",
       "    }\n",
       "</style>\n",
       "<table border=\"1\" class=\"dataframe\">\n",
       "  <thead>\n",
       "    <tr style=\"text-align: right;\">\n",
       "      <th></th>\n",
       "      <th>date_of_burial</th>\n",
       "      <th>year</th>\n",
       "      <th>month</th>\n",
       "      <th>day</th>\n",
       "    </tr>\n",
       "  </thead>\n",
       "  <tbody>\n",
       "    <tr>\n",
       "      <th>5378</th>\n",
       "      <td>1415/01/01</td>\n",
       "      <td>1415</td>\n",
       "      <td>01</td>\n",
       "      <td>01</td>\n",
       "    </tr>\n",
       "    <tr>\n",
       "      <th>5379</th>\n",
       "      <td>1415/01/01</td>\n",
       "      <td>1415</td>\n",
       "      <td>01</td>\n",
       "      <td>01</td>\n",
       "    </tr>\n",
       "    <tr>\n",
       "      <th>5380</th>\n",
       "      <td>1415/01/01</td>\n",
       "      <td>1415</td>\n",
       "      <td>01</td>\n",
       "      <td>01</td>\n",
       "    </tr>\n",
       "    <tr>\n",
       "      <th>5381</th>\n",
       "      <td>1415/01/01</td>\n",
       "      <td>1415</td>\n",
       "      <td>01</td>\n",
       "      <td>01</td>\n",
       "    </tr>\n",
       "    <tr>\n",
       "      <th>5382</th>\n",
       "      <td>1415/01/01</td>\n",
       "      <td>1415</td>\n",
       "      <td>01</td>\n",
       "      <td>01</td>\n",
       "    </tr>\n",
       "  </tbody>\n",
       "</table>\n",
       "</div>"
      ],
      "text/plain": [
       "     date_of_burial  year month day\n",
       "5378     1415/01/01  1415    01  01\n",
       "5379     1415/01/01  1415    01  01\n",
       "5380     1415/01/01  1415    01  01\n",
       "5381     1415/01/01  1415    01  01\n",
       "5382     1415/01/01  1415    01  01"
      ]
     },
     "execution_count": 16,
     "metadata": {},
     "output_type": "execute_result"
    }
   ],
   "source": [
    "# check\n",
    "df_cleaned.head()"
   ]
  },
  {
   "cell_type": "code",
   "execution_count": 17,
   "metadata": {},
   "outputs": [
    {
     "data": {
      "text/plain": [
       "25"
      ]
     },
     "execution_count": 17,
     "metadata": {},
     "output_type": "execute_result"
    }
   ],
   "source": [
    "# number of samples we have in this dataset? how many years? \n",
    "df_cleaned.year.nunique()\n",
    "\n",
    "# Ans: 25 years of data "
   ]
  },
  {
   "cell_type": "code",
   "execution_count": 18,
   "metadata": {},
   "outputs": [
    {
     "data": {
      "text/html": [
       "<div>\n",
       "<style scoped>\n",
       "    .dataframe tbody tr th:only-of-type {\n",
       "        vertical-align: middle;\n",
       "    }\n",
       "\n",
       "    .dataframe tbody tr th {\n",
       "        vertical-align: top;\n",
       "    }\n",
       "\n",
       "    .dataframe thead th {\n",
       "        text-align: right;\n",
       "    }\n",
       "</style>\n",
       "<table border=\"1\" class=\"dataframe\">\n",
       "  <thead>\n",
       "    <tr style=\"text-align: right;\">\n",
       "      <th>month</th>\n",
       "      <th>01</th>\n",
       "      <th>02</th>\n",
       "      <th>03</th>\n",
       "      <th>04</th>\n",
       "      <th>05</th>\n",
       "      <th>06</th>\n",
       "      <th>07</th>\n",
       "      <th>08</th>\n",
       "      <th>09</th>\n",
       "      <th>10</th>\n",
       "      <th>11</th>\n",
       "      <th>12</th>\n",
       "    </tr>\n",
       "    <tr>\n",
       "      <th>year</th>\n",
       "      <th></th>\n",
       "      <th></th>\n",
       "      <th></th>\n",
       "      <th></th>\n",
       "      <th></th>\n",
       "      <th></th>\n",
       "      <th></th>\n",
       "      <th></th>\n",
       "      <th></th>\n",
       "      <th></th>\n",
       "      <th></th>\n",
       "      <th></th>\n",
       "    </tr>\n",
       "  </thead>\n",
       "  <tbody>\n",
       "    <tr>\n",
       "      <th>1415</th>\n",
       "      <td>8.019967</td>\n",
       "      <td>8.119800</td>\n",
       "      <td>7.054908</td>\n",
       "      <td>7.321131</td>\n",
       "      <td>6.788686</td>\n",
       "      <td>7.420965</td>\n",
       "      <td>8.086522</td>\n",
       "      <td>8.319468</td>\n",
       "      <td>9.084859</td>\n",
       "      <td>8.552413</td>\n",
       "      <td>8.918469</td>\n",
       "      <td>12.312812</td>\n",
       "    </tr>\n",
       "    <tr>\n",
       "      <th>1416</th>\n",
       "      <td>8.538486</td>\n",
       "      <td>7.852914</td>\n",
       "      <td>8.039888</td>\n",
       "      <td>6.918043</td>\n",
       "      <td>6.762231</td>\n",
       "      <td>6.762231</td>\n",
       "      <td>7.946401</td>\n",
       "      <td>8.413836</td>\n",
       "      <td>9.442194</td>\n",
       "      <td>8.320349</td>\n",
       "      <td>9.566843</td>\n",
       "      <td>11.436585</td>\n",
       "    </tr>\n",
       "    <tr>\n",
       "      <th>1417</th>\n",
       "      <td>8.120722</td>\n",
       "      <td>6.440572</td>\n",
       "      <td>6.565028</td>\n",
       "      <td>6.160548</td>\n",
       "      <td>6.036092</td>\n",
       "      <td>7.405103</td>\n",
       "      <td>7.311761</td>\n",
       "      <td>8.494088</td>\n",
       "      <td>10.765401</td>\n",
       "      <td>9.645302</td>\n",
       "      <td>10.889857</td>\n",
       "      <td>12.165526</td>\n",
       "    </tr>\n",
       "    <tr>\n",
       "      <th>1418</th>\n",
       "      <td>9.387262</td>\n",
       "      <td>6.610323</td>\n",
       "      <td>6.881980</td>\n",
       "      <td>6.881980</td>\n",
       "      <td>6.338666</td>\n",
       "      <td>6.308482</td>\n",
       "      <td>6.731059</td>\n",
       "      <td>7.727136</td>\n",
       "      <td>9.689104</td>\n",
       "      <td>9.417446</td>\n",
       "      <td>11.137941</td>\n",
       "      <td>12.888621</td>\n",
       "    </tr>\n",
       "    <tr>\n",
       "      <th>1419</th>\n",
       "      <td>8.952096</td>\n",
       "      <td>7.754491</td>\n",
       "      <td>6.766467</td>\n",
       "      <td>7.395210</td>\n",
       "      <td>6.946108</td>\n",
       "      <td>6.556886</td>\n",
       "      <td>7.005988</td>\n",
       "      <td>7.395210</td>\n",
       "      <td>9.760479</td>\n",
       "      <td>9.970060</td>\n",
       "      <td>9.191617</td>\n",
       "      <td>12.305389</td>\n",
       "    </tr>\n",
       "  </tbody>\n",
       "</table>\n",
       "</div>"
      ],
      "text/plain": [
       "month        01        02        03        04        05        06        07  \\\n",
       "year                                                                          \n",
       "1415   8.019967  8.119800  7.054908  7.321131  6.788686  7.420965  8.086522   \n",
       "1416   8.538486  7.852914  8.039888  6.918043  6.762231  6.762231  7.946401   \n",
       "1417   8.120722  6.440572  6.565028  6.160548  6.036092  7.405103  7.311761   \n",
       "1418   9.387262  6.610323  6.881980  6.881980  6.338666  6.308482  6.731059   \n",
       "1419   8.952096  7.754491  6.766467  7.395210  6.946108  6.556886  7.005988   \n",
       "\n",
       "month        08         09        10         11         12  \n",
       "year                                                        \n",
       "1415   8.319468   9.084859  8.552413   8.918469  12.312812  \n",
       "1416   8.413836   9.442194  8.320349   9.566843  11.436585  \n",
       "1417   8.494088  10.765401  9.645302  10.889857  12.165526  \n",
       "1418   7.727136   9.689104  9.417446  11.137941  12.888621  \n",
       "1419   7.395210   9.760479  9.970060   9.191617  12.305389  "
      ]
     },
     "execution_count": 18,
     "metadata": {},
     "output_type": "execute_result"
    }
   ],
   "source": [
    "# wrangling the data \n",
    "# we need the month count share (percentage) for each year (preparing our samples)\n",
    "df_main = (df_cleaned.month.groupby(df_cleaned.year).value_counts('%')*100).unstack()\n",
    "df_main.index.rename('year',inplace=True)\n",
    "# check\n",
    "df_main.head()"
   ]
  },
  {
   "cell_type": "markdown",
   "metadata": {},
   "source": [
    "* Now we have **25 samples, 12 groups** of data.\n",
    "* This is the final dataset that we are going to do our analysis (**statistical test**) on it."
   ]
  },
  {
   "cell_type": "code",
   "execution_count": 19,
   "metadata": {
    "scrolled": true
   },
   "outputs": [
    {
     "data": {
      "application/vnd.plotly.v1+json": {
       "config": {
        "linkText": "Export to plot.ly",
        "plotlyServerURL": "https://plot.ly",
        "showLink": true
       },
       "data": [
        {
         "marker": {
          "color": "rgba(255, 153, 51, 0.6)",
          "line": {
           "color": "rgba(255, 153, 51, 1.0)",
           "width": 1
          }
         },
         "name": "01",
         "orientation": "v",
         "text": "",
         "type": "bar",
         "uid": "0e252e43-792c-45cc-ae73-0a0accec9e74",
         "x": [
          "1415",
          "1416",
          "1417",
          "1418",
          "1419",
          "1420",
          "1421",
          "1422",
          "1423",
          "1424",
          "1425",
          "1426",
          "1427",
          "1428",
          "1429",
          "1430",
          "1431",
          "1432",
          "1433",
          "1434",
          "1435",
          "1436",
          "1437",
          "1438",
          "1439"
         ],
         "y": [
          8.019966722129784,
          8.538485509504518,
          8.120721841941506,
          9.387262300030184,
          8.952095808383234,
          8.899297423887589,
          8.29805249788315,
          8.627113786185154,
          8.198009429020429,
          9.65952080706179,
          8.990690837824596,
          9.66542750929368,
          8.989850169163848,
          12.106720362446515,
          10.60313963095566,
          10.14407527197883,
          7.811462712989599,
          8.817384036773925,
          9.662877303018425,
          8.793969849246231,
          7.676312597470108,
          7.25557461406518,
          7.967800229998358,
          7.6785132050864044,
          6.508563899868247
         ]
        },
        {
         "marker": {
          "color": "rgba(55, 128, 191, 0.6)",
          "line": {
           "color": "rgba(55, 128, 191, 1.0)",
           "width": 1
          }
         },
         "name": "02",
         "orientation": "v",
         "text": "",
         "type": "bar",
         "uid": "951d03ef-34b9-4110-959e-d7b7b1377918",
         "x": [
          "1415",
          "1416",
          "1417",
          "1418",
          "1419",
          "1420",
          "1421",
          "1422",
          "1423",
          "1424",
          "1425",
          "1426",
          "1427",
          "1428",
          "1429",
          "1430",
          "1431",
          "1432",
          "1433",
          "1434",
          "1435",
          "1436",
          "1437",
          "1438",
          "1439"
         ],
         "y": [
          8.119800332778702,
          7.852913680274229,
          6.440572495332919,
          6.610322970117719,
          7.754491017964071,
          6.7330210772833725,
          6.519898391193904,
          5.0157638291774145,
          7.1241487689889995,
          6.91046658259773,
          6.834884860362567,
          7.236679058240396,
          7.515708071532141,
          8.306065945129625,
          6.967777471770862,
          7.497794766245222,
          7.678689975658331,
          7.6890931884663605,
          7.487259898079185,
          7.943563973714728,
          7.399064286952002,
          7.204116638078903,
          7.031378347297519,
          6.9938050211933485,
          5.507246376811594
         ]
        },
        {
         "marker": {
          "color": "rgba(50, 171, 96, 0.6)",
          "line": {
           "color": "rgba(50, 171, 96, 1.0)",
           "width": 1
          }
         },
         "name": "03",
         "orientation": "v",
         "text": "",
         "type": "bar",
         "uid": "6d63fa8f-e34f-4beb-b608-2297bf4fdea8",
         "x": [
          "1415",
          "1416",
          "1417",
          "1418",
          "1419",
          "1420",
          "1421",
          "1422",
          "1423",
          "1424",
          "1425",
          "1426",
          "1427",
          "1428",
          "1429",
          "1430",
          "1431",
          "1432",
          "1433",
          "1434",
          "1435",
          "1436",
          "1437",
          "1438",
          "1439"
         ],
         "y": [
          7.054908485856905,
          8.039887815518853,
          6.565028002489111,
          6.881980078478721,
          6.766467065868263,
          7.259953161592506,
          6.7174710697149305,
          5.474347950702207,
          6.966998428496594,
          6.73392181588903,
          7.006369426751593,
          7.534076827757125,
          6.8632189463508935,
          7.550969041026932,
          7.077939961443129,
          6.8215230814466326,
          6.9926974994467805,
          7.626410363560384,
          7.781262250098001,
          8.33011209895632,
          9.599722751689482,
          9.073756432246999,
          9.413504189255791,
          8.835996087381806,
          7.180500658761528
         ]
        },
        {
         "marker": {
          "color": "rgba(128, 0, 128, 0.6)",
          "line": {
           "color": "rgba(128, 0, 128, 1.0)",
           "width": 1
          }
         },
         "name": "04",
         "orientation": "v",
         "text": "",
         "type": "bar",
         "uid": "7ab935b9-45d6-48ae-849a-c959c9c30b48",
         "x": [
          "1415",
          "1416",
          "1417",
          "1418",
          "1419",
          "1420",
          "1421",
          "1422",
          "1423",
          "1424",
          "1425",
          "1426",
          "1427",
          "1428",
          "1429",
          "1430",
          "1431",
          "1432",
          "1433",
          "1434",
          "1435",
          "1436",
          "1437",
          "1438",
          "1439"
         ],
         "y": [
          7.321131447587355,
          6.918043004051107,
          6.160547604231487,
          6.881980078478721,
          7.395209580838323,
          7.1135831381733015,
          7.6771097939599215,
          7.59529951275437,
          6.626506024096386,
          7.238335435056746,
          6.29593336599706,
          7.434944237918216,
          6.766553890768487,
          8.884973571608356,
          7.931699256403195,
          8.673919435460158,
          8.32042487275946,
          8.357709987463435,
          9.1140729125833,
          8.77464244298415,
          11.037948362502165,
          10.4631217838765,
          9.36421882700838,
          8.607760026084122,
          9.011857707509881
         ]
        },
        {
         "marker": {
          "color": "rgba(219, 64, 82, 0.6)",
          "line": {
           "color": "rgba(219, 64, 82, 1.0)",
           "width": 1
          }
         },
         "name": "05",
         "orientation": "v",
         "text": "",
         "type": "bar",
         "uid": "b6834c52-631f-4a8a-b0f6-65d56823472e",
         "x": [
          "1415",
          "1416",
          "1417",
          "1418",
          "1419",
          "1420",
          "1421",
          "1422",
          "1423",
          "1424",
          "1425",
          "1426",
          "1427",
          "1428",
          "1429",
          "1430",
          "1431",
          "1432",
          "1433",
          "1434",
          "1435",
          "1436",
          "1437",
          "1438",
          "1439"
         ],
         "y": [
          6.788685524126456,
          6.762231224680586,
          6.036092097075295,
          6.338665861756716,
          6.946107784431138,
          7.494145199063232,
          7.959356477561388,
          8.397821725422757,
          7.46464117338921,
          6.532156368221942,
          7.153356197942186,
          7.236679058240396,
          7.394876752054133,
          7.148250692172161,
          7.325805563205728,
          7.497794766245222,
          8.32042487275946,
          8.232344337651483,
          7.761662093296747,
          8.81329725550831,
          9.461098596430428,
          8.49056603773585,
          8.887793658616724,
          9.194652755135312,
          7.69433465085639
         ]
        },
        {
         "marker": {
          "color": "rgba(0, 128, 128, 0.6)",
          "line": {
           "color": "rgba(0, 128, 128, 1.0)",
           "width": 1
          }
         },
         "name": "06",
         "orientation": "v",
         "text": "",
         "type": "bar",
         "uid": "8656bfac-2b85-48ec-9fec-6deffefb8597",
         "x": [
          "1415",
          "1416",
          "1417",
          "1418",
          "1419",
          "1420",
          "1421",
          "1422",
          "1423",
          "1424",
          "1425",
          "1426",
          "1427",
          "1428",
          "1429",
          "1430",
          "1431",
          "1432",
          "1433",
          "1434",
          "1435",
          "1436",
          "1437",
          "1438",
          "1439"
         ],
         "y": [
          7.420965058236273,
          6.762231224680586,
          7.405102675793404,
          6.308481738605494,
          6.55688622754491,
          6.762295081967213,
          7.705334462320068,
          8.19719117225566,
          7.1503404924044,
          8.549810844892813,
          8.35374816266536,
          7.5836431226765795,
          7.104881585306912,
          7.576138937830355,
          7.298264940787662,
          8.203469567774183,
          7.678689975658331,
          7.605516088591726,
          7.898863190905528,
          8.581368380363354,
          8.213481199098943,
          8.679245283018867,
          9.01922129127649,
          8.330616237365504,
          6.561264822134387
         ]
        },
        {
         "marker": {
          "color": "rgba(255, 255, 51, 0.6)",
          "line": {
           "color": "rgba(255, 255, 51, 1.0)",
           "width": 1
          }
         },
         "name": "07",
         "orientation": "v",
         "text": "",
         "type": "bar",
         "uid": "e5e7e272-4c9e-44cb-8469-94c1cd6c3567",
         "x": [
          "1415",
          "1416",
          "1417",
          "1418",
          "1419",
          "1420",
          "1421",
          "1422",
          "1423",
          "1424",
          "1425",
          "1426",
          "1427",
          "1428",
          "1429",
          "1430",
          "1431",
          "1432",
          "1433",
          "1434",
          "1435",
          "1436",
          "1437",
          "1438",
          "1439"
         ],
         "y": [
          8.086522462562396,
          7.946400747896541,
          7.31176104542626,
          6.731059462722608,
          7.005988023952097,
          7.084309133489461,
          7.592435788879481,
          7.738607050730868,
          6.757464641173389,
          7.440100882723834,
          7.373836354728075,
          7.112763320941759,
          7.056549057515708,
          7.500629247420086,
          7.2431836959515286,
          6.9979417818288745,
          7.722947554768754,
          8.232344337651483,
          8.428067424539396,
          7.112485504445304,
          8.78530583954254,
          8.181818181818182,
          9.052078199441432,
          8.689272905119008,
          6.521739130434782
         ]
        },
        {
         "marker": {
          "color": "rgba(128, 128, 0, 0.6)",
          "line": {
           "color": "rgba(128, 128, 0, 1.0)",
           "width": 1
          }
         },
         "name": "08",
         "orientation": "v",
         "text": "",
         "type": "bar",
         "uid": "f35b9b7f-a2da-496a-a5a3-527373f122c4",
         "x": [
          "1415",
          "1416",
          "1417",
          "1418",
          "1419",
          "1420",
          "1421",
          "1422",
          "1423",
          "1424",
          "1425",
          "1426",
          "1427",
          "1428",
          "1429",
          "1430",
          "1431",
          "1432",
          "1433",
          "1434",
          "1435",
          "1436",
          "1437",
          "1438",
          "1439"
         ],
         "y": [
          8.319467554076539,
          8.413836086008102,
          8.49408836341008,
          7.7271355267129485,
          7.395209580838323,
          7.055035128805621,
          7.846457804120802,
          7.824591573516767,
          7.674174960712415,
          8.045397225725095,
          7.912787849093582,
          7.434944237918216,
          7.37071048815853,
          7.701988421847471,
          8.014321123657394,
          8.291678917965305,
          7.700818765213543,
          8.42039281236941,
          7.114856918855351,
          8.078855817549286,
          8.040201005025125,
          8.216123499142366,
          7.491375061606703,
          8.542549722856212,
          7.944664031620554
         ]
        },
        {
         "marker": {
          "color": "rgba(251, 128, 114, 0.6)",
          "line": {
           "color": "rgba(251, 128, 114, 1.0)",
           "width": 1
          }
         },
         "name": "09",
         "orientation": "v",
         "text": "",
         "type": "bar",
         "uid": "e60a74e9-c704-4d70-a1ee-07ddecef6cb2",
         "x": [
          "1415",
          "1416",
          "1417",
          "1418",
          "1419",
          "1420",
          "1421",
          "1422",
          "1423",
          "1424",
          "1425",
          "1426",
          "1427",
          "1428",
          "1429",
          "1430",
          "1431",
          "1432",
          "1433",
          "1434",
          "1435",
          "1436",
          "1437",
          "1438",
          "1439"
         ],
         "y": [
          9.084858569051582,
          9.442193829853537,
          10.76540136901058,
          9.68910353154241,
          9.760479041916167,
          9.923887587822014,
          8.862545865086085,
          9.630266552020636,
          9.324253535882661,
          10.390920554854981,
          9.235668789808917,
          9.070631970260223,
          9.159014016433058,
          7.752328215454317,
          8.592674194436794,
          8.379888268156424,
          9.736667404292985,
          9.674049310488925,
          10.152881223049784,
          9.31580981832238,
          7.953560907988217,
          7.804459691252144,
          8.329226219812716,
          8.314313661558526,
          13.096179183135707
         ]
        },
        {
         "marker": {
          "color": "rgba(128, 177, 211, 0.6)",
          "line": {
           "color": "rgba(128, 177, 211, 1.0)",
           "width": 1
          }
         },
         "name": "10",
         "orientation": "v",
         "text": "",
         "type": "bar",
         "uid": "b7d1a47a-4d4c-462d-a0ca-bf1a3781b44e",
         "x": [
          "1415",
          "1416",
          "1417",
          "1418",
          "1419",
          "1420",
          "1421",
          "1422",
          "1423",
          "1424",
          "1425",
          "1426",
          "1427",
          "1428",
          "1429",
          "1430",
          "1431",
          "1432",
          "1433",
          "1434",
          "1435",
          "1436",
          "1437",
          "1438",
          "1439"
         ],
         "y": [
          8.552412645590682,
          8.32034901838579,
          9.645301804604854,
          9.417446423181406,
          9.970059880239521,
          8.98711943793911,
          9.455263900649168,
          8.82774433935225,
          9.376636982713462,
          8.02017654476671,
          9.039686428221462,
          8.52540272614622,
          8.579023682938617,
          6.871381827334508,
          7.133021206279262,
          7.99764775066157,
          8.254038504093826,
          8.58754701211868,
          7.800862406899254,
          7.8469269424043295,
          7.173800034656039,
          8.198970840480275,
          7.984228684080828,
          8.852298663188783,
          12.173913043478262
         ]
        },
        {
         "marker": {
          "color": "rgba(128, 177, 211, 0.6)",
          "line": {
           "color": "rgba(128, 177, 211, 0.8999999999999999)",
           "width": 1
          }
         },
         "name": "11",
         "orientation": "v",
         "text": "",
         "type": "bar",
         "uid": "2c92719a-3d78-407a-a14a-beb792cac79d",
         "x": [
          "1415",
          "1416",
          "1417",
          "1418",
          "1419",
          "1420",
          "1421",
          "1422",
          "1423",
          "1424",
          "1425",
          "1426",
          "1427",
          "1428",
          "1429",
          "1430",
          "1431",
          "1432",
          "1433",
          "1434",
          "1435",
          "1436",
          "1437",
          "1438",
          "1439"
         ],
         "y": [
          8.91846921797005,
          9.566843253349953,
          10.889856876166771,
          11.137941442801088,
          9.191616766467066,
          9.660421545667447,
          9.737510584250634,
          10.232158211521925,
          10.581456259821897,
          10.03783102143758,
          10.019598236158746,
          9.144981412639405,
          11.1164813919768,
          8.255726151522778,
          9.749380335995593,
          9.55601293737136,
          9.426864350520027,
          8.378604262432093,
          8.251666013328107,
          7.924236567452649,
          7.260440131692948,
          7.941680960548885,
          8.000657138163298,
          8.167590479295729,
          11.383399209486166
         ]
        },
        {
         "marker": {
          "color": "rgba(255, 153, 51, 0.6)",
          "line": {
           "color": "rgba(255, 153, 51, 0.8999999999999999)",
           "width": 1
          }
         },
         "name": "12",
         "orientation": "v",
         "text": "",
         "type": "bar",
         "uid": "495e75e2-31f7-49cd-b78b-3e078cab2dbb",
         "x": [
          "1415",
          "1416",
          "1417",
          "1418",
          "1419",
          "1420",
          "1421",
          "1422",
          "1423",
          "1424",
          "1425",
          "1426",
          "1427",
          "1428",
          "1429",
          "1430",
          "1431",
          "1432",
          "1433",
          "1434",
          "1435",
          "1436",
          "1437",
          "1438",
          "1439"
         ],
         "y": [
          12.312811980033278,
          11.436584605796197,
          12.165525824517735,
          12.888620585571989,
          12.305389221556887,
          13.026932084309134,
          11.628563364380469,
          12.439094296359988,
          12.755369303300157,
          10.441361916771754,
          11.78343949044586,
          12.01982651796778,
          12.083131947800869,
          10.344827586206897,
          12.062792619113193,
          9.938253454866215,
          10.356273511838902,
          8.378604262432093,
          8.545668365346923,
          8.484731349052957,
          7.399064286952002,
          8.49056603773585,
          7.45851815344176,
          7.7926312357352465,
          6.416337285902503
         ]
        }
       ],
       "layout": {
        "barmode": "stack",
        "height": 400,
        "legend": {
         "bgcolor": "#F5F6F9",
         "font": {
          "color": "#4D5663"
         },
         "traceorder": "normal"
        },
        "paper_bgcolor": "#F5F6F9",
        "plot_bgcolor": "#F5F6F9",
        "title": "Months percentage share over years",
        "titlefont": {
         "color": "#4D5663"
        },
        "width": 1000,
        "xaxis": {
         "gridcolor": "#E1E5ED",
         "showgrid": true,
         "tickfont": {
          "color": "#4D5663"
         },
         "title": "",
         "titlefont": {
          "color": "#4D5663"
         },
         "zerolinecolor": "#E1E5ED"
        },
        "yaxis": {
         "gridcolor": "#E1E5ED",
         "showgrid": true,
         "tickfont": {
          "color": "#4D5663"
         },
         "title": "",
         "titlefont": {
          "color": "#4D5663"
         },
         "zerolinecolor": "#E1E5ED"
        }
       }
      },
      "text/html": [
       "<div id=\"5bf175e4-6e3b-4f7e-b0cb-0eb660cbc4b9\" style=\"height: 400px; width: 1000px;\" class=\"plotly-graph-div\"></div><script type=\"text/javascript\">require([\"plotly\"], function(Plotly) { window.PLOTLYENV=window.PLOTLYENV || {};window.PLOTLYENV.BASE_URL=\"https://plot.ly\";Plotly.newPlot(\"5bf175e4-6e3b-4f7e-b0cb-0eb660cbc4b9\", [{\"text\": \"\", \"type\": \"bar\", \"marker\": {\"color\": \"rgba(255, 153, 51, 0.6)\", \"line\": {\"color\": \"rgba(255, 153, 51, 1.0)\", \"width\": 1}}, \"y\": [8.019966722129784, 8.538485509504518, 8.120721841941506, 9.387262300030184, 8.952095808383234, 8.899297423887589, 8.29805249788315, 8.627113786185154, 8.198009429020429, 9.65952080706179, 8.990690837824596, 9.66542750929368, 8.989850169163848, 12.106720362446515, 10.60313963095566, 10.14407527197883, 7.811462712989599, 8.817384036773925, 9.662877303018425, 8.793969849246231, 7.676312597470108, 7.25557461406518, 7.967800229998358, 7.6785132050864044, 6.508563899868247], \"orientation\": \"v\", \"uid\": \"72660e07-36dd-487d-86bd-48930c67ed52\", \"name\": \"01\", \"x\": [\"1415\", \"1416\", \"1417\", \"1418\", \"1419\", \"1420\", \"1421\", \"1422\", \"1423\", \"1424\", \"1425\", \"1426\", \"1427\", \"1428\", \"1429\", \"1430\", \"1431\", \"1432\", \"1433\", \"1434\", \"1435\", \"1436\", \"1437\", \"1438\", \"1439\"]}, {\"text\": \"\", \"type\": \"bar\", \"marker\": {\"color\": \"rgba(55, 128, 191, 0.6)\", \"line\": {\"color\": \"rgba(55, 128, 191, 1.0)\", \"width\": 1}}, \"y\": [8.119800332778702, 7.852913680274229, 6.440572495332919, 6.610322970117719, 7.754491017964071, 6.7330210772833725, 6.519898391193904, 5.0157638291774145, 7.1241487689889995, 6.91046658259773, 6.834884860362567, 7.236679058240396, 7.515708071532141, 8.306065945129625, 6.967777471770862, 7.497794766245222, 7.678689975658331, 7.6890931884663605, 7.487259898079185, 7.943563973714728, 7.399064286952002, 7.204116638078903, 7.031378347297519, 6.9938050211933485, 5.507246376811594], \"orientation\": \"v\", \"uid\": \"4376649c-80a0-4091-ad49-5669bcafdea3\", \"name\": \"02\", \"x\": [\"1415\", \"1416\", \"1417\", \"1418\", \"1419\", \"1420\", \"1421\", \"1422\", \"1423\", \"1424\", \"1425\", \"1426\", \"1427\", \"1428\", \"1429\", \"1430\", \"1431\", \"1432\", \"1433\", \"1434\", \"1435\", \"1436\", \"1437\", \"1438\", \"1439\"]}, {\"text\": \"\", \"type\": \"bar\", \"marker\": {\"color\": \"rgba(50, 171, 96, 0.6)\", \"line\": {\"color\": \"rgba(50, 171, 96, 1.0)\", \"width\": 1}}, \"y\": [7.054908485856905, 8.039887815518853, 6.565028002489111, 6.881980078478721, 6.766467065868263, 7.259953161592506, 6.7174710697149305, 5.474347950702207, 6.966998428496594, 6.73392181588903, 7.006369426751593, 7.534076827757125, 6.8632189463508935, 7.550969041026932, 7.077939961443129, 6.8215230814466326, 6.9926974994467805, 7.626410363560384, 7.781262250098001, 8.33011209895632, 9.599722751689482, 9.073756432246999, 9.413504189255791, 8.835996087381806, 7.180500658761528], \"orientation\": \"v\", \"uid\": \"86b83140-0602-4b71-b5f8-b24d3b65239b\", \"name\": \"03\", \"x\": [\"1415\", \"1416\", \"1417\", \"1418\", \"1419\", \"1420\", \"1421\", \"1422\", \"1423\", \"1424\", \"1425\", \"1426\", \"1427\", \"1428\", \"1429\", \"1430\", \"1431\", \"1432\", \"1433\", \"1434\", \"1435\", \"1436\", \"1437\", \"1438\", \"1439\"]}, {\"text\": \"\", \"type\": \"bar\", \"marker\": {\"color\": \"rgba(128, 0, 128, 0.6)\", \"line\": {\"color\": \"rgba(128, 0, 128, 1.0)\", \"width\": 1}}, \"y\": [7.321131447587355, 6.918043004051107, 6.160547604231487, 6.881980078478721, 7.395209580838323, 7.1135831381733015, 7.6771097939599215, 7.59529951275437, 6.626506024096386, 7.238335435056746, 6.29593336599706, 7.434944237918216, 6.766553890768487, 8.884973571608356, 7.931699256403195, 8.673919435460158, 8.32042487275946, 8.357709987463435, 9.1140729125833, 8.77464244298415, 11.037948362502165, 10.4631217838765, 9.36421882700838, 8.607760026084122, 9.011857707509881], \"orientation\": \"v\", \"uid\": \"2499a9bd-adcf-40ef-b60b-882061f90ec3\", \"name\": \"04\", \"x\": [\"1415\", \"1416\", \"1417\", \"1418\", \"1419\", \"1420\", \"1421\", \"1422\", \"1423\", \"1424\", \"1425\", \"1426\", \"1427\", \"1428\", \"1429\", \"1430\", \"1431\", \"1432\", \"1433\", \"1434\", \"1435\", \"1436\", \"1437\", \"1438\", \"1439\"]}, {\"text\": \"\", \"type\": \"bar\", \"marker\": {\"color\": \"rgba(219, 64, 82, 0.6)\", \"line\": {\"color\": \"rgba(219, 64, 82, 1.0)\", \"width\": 1}}, \"y\": [6.788685524126456, 6.762231224680586, 6.036092097075295, 6.338665861756716, 6.946107784431138, 7.494145199063232, 7.959356477561388, 8.397821725422757, 7.46464117338921, 6.532156368221942, 7.153356197942186, 7.236679058240396, 7.394876752054133, 7.148250692172161, 7.325805563205728, 7.497794766245222, 8.32042487275946, 8.232344337651483, 7.761662093296747, 8.81329725550831, 9.461098596430428, 8.49056603773585, 8.887793658616724, 9.194652755135312, 7.69433465085639], \"orientation\": \"v\", \"uid\": \"0811ab05-ce96-4c69-b33a-50db5461848f\", \"name\": \"05\", \"x\": [\"1415\", \"1416\", \"1417\", \"1418\", \"1419\", \"1420\", \"1421\", \"1422\", \"1423\", \"1424\", \"1425\", \"1426\", \"1427\", \"1428\", \"1429\", \"1430\", \"1431\", \"1432\", \"1433\", \"1434\", \"1435\", \"1436\", \"1437\", \"1438\", \"1439\"]}, {\"text\": \"\", \"type\": \"bar\", \"marker\": {\"color\": \"rgba(0, 128, 128, 0.6)\", \"line\": {\"color\": \"rgba(0, 128, 128, 1.0)\", \"width\": 1}}, \"y\": [7.420965058236273, 6.762231224680586, 7.405102675793404, 6.308481738605494, 6.55688622754491, 6.762295081967213, 7.705334462320068, 8.19719117225566, 7.1503404924044, 8.549810844892813, 8.35374816266536, 7.5836431226765795, 7.104881585306912, 7.576138937830355, 7.298264940787662, 8.203469567774183, 7.678689975658331, 7.605516088591726, 7.898863190905528, 8.581368380363354, 8.213481199098943, 8.679245283018867, 9.01922129127649, 8.330616237365504, 6.561264822134387], \"orientation\": \"v\", \"uid\": \"240d6bd1-46d8-4970-82c8-6f4f4761fefe\", \"name\": \"06\", \"x\": [\"1415\", \"1416\", \"1417\", \"1418\", \"1419\", \"1420\", \"1421\", \"1422\", \"1423\", \"1424\", \"1425\", \"1426\", \"1427\", \"1428\", \"1429\", \"1430\", \"1431\", \"1432\", \"1433\", \"1434\", \"1435\", \"1436\", \"1437\", \"1438\", \"1439\"]}, {\"text\": \"\", \"type\": \"bar\", \"marker\": {\"color\": \"rgba(255, 255, 51, 0.6)\", \"line\": {\"color\": \"rgba(255, 255, 51, 1.0)\", \"width\": 1}}, \"y\": [8.086522462562396, 7.946400747896541, 7.31176104542626, 6.731059462722608, 7.005988023952097, 7.084309133489461, 7.592435788879481, 7.738607050730868, 6.757464641173389, 7.440100882723834, 7.373836354728075, 7.112763320941759, 7.056549057515708, 7.500629247420086, 7.2431836959515286, 6.9979417818288745, 7.722947554768754, 8.232344337651483, 8.428067424539396, 7.112485504445304, 8.78530583954254, 8.181818181818182, 9.052078199441432, 8.689272905119008, 6.521739130434782], \"orientation\": \"v\", \"uid\": \"7b04b75a-43a1-42ae-b1d9-dbad0f09cdf4\", \"name\": \"07\", \"x\": [\"1415\", \"1416\", \"1417\", \"1418\", \"1419\", \"1420\", \"1421\", \"1422\", \"1423\", \"1424\", \"1425\", \"1426\", \"1427\", \"1428\", \"1429\", \"1430\", \"1431\", \"1432\", \"1433\", \"1434\", \"1435\", \"1436\", \"1437\", \"1438\", \"1439\"]}, {\"text\": \"\", \"type\": \"bar\", \"marker\": {\"color\": \"rgba(128, 128, 0, 0.6)\", \"line\": {\"color\": \"rgba(128, 128, 0, 1.0)\", \"width\": 1}}, \"y\": [8.319467554076539, 8.413836086008102, 8.49408836341008, 7.7271355267129485, 7.395209580838323, 7.055035128805621, 7.846457804120802, 7.824591573516767, 7.674174960712415, 8.045397225725095, 7.912787849093582, 7.434944237918216, 7.37071048815853, 7.701988421847471, 8.014321123657394, 8.291678917965305, 7.700818765213543, 8.42039281236941, 7.114856918855351, 8.078855817549286, 8.040201005025125, 8.216123499142366, 7.491375061606703, 8.542549722856212, 7.944664031620554], \"orientation\": \"v\", \"uid\": \"99597373-45b2-4758-be85-af59ba110860\", \"name\": \"08\", \"x\": [\"1415\", \"1416\", \"1417\", \"1418\", \"1419\", \"1420\", \"1421\", \"1422\", \"1423\", \"1424\", \"1425\", \"1426\", \"1427\", \"1428\", \"1429\", \"1430\", \"1431\", \"1432\", \"1433\", \"1434\", \"1435\", \"1436\", \"1437\", \"1438\", \"1439\"]}, {\"text\": \"\", \"type\": \"bar\", \"marker\": {\"color\": \"rgba(251, 128, 114, 0.6)\", \"line\": {\"color\": \"rgba(251, 128, 114, 1.0)\", \"width\": 1}}, \"y\": [9.084858569051582, 9.442193829853537, 10.76540136901058, 9.68910353154241, 9.760479041916167, 9.923887587822014, 8.862545865086085, 9.630266552020636, 9.324253535882661, 10.390920554854981, 9.235668789808917, 9.070631970260223, 9.159014016433058, 7.752328215454317, 8.592674194436794, 8.379888268156424, 9.736667404292985, 9.674049310488925, 10.152881223049784, 9.31580981832238, 7.953560907988217, 7.804459691252144, 8.329226219812716, 8.314313661558526, 13.096179183135707], \"orientation\": \"v\", \"uid\": \"0175a343-7d7d-4797-9b7e-25d57f05f427\", \"name\": \"09\", \"x\": [\"1415\", \"1416\", \"1417\", \"1418\", \"1419\", \"1420\", \"1421\", \"1422\", \"1423\", \"1424\", \"1425\", \"1426\", \"1427\", \"1428\", \"1429\", \"1430\", \"1431\", \"1432\", \"1433\", \"1434\", \"1435\", \"1436\", \"1437\", \"1438\", \"1439\"]}, {\"text\": \"\", \"type\": \"bar\", \"marker\": {\"color\": \"rgba(128, 177, 211, 0.6)\", \"line\": {\"color\": \"rgba(128, 177, 211, 1.0)\", \"width\": 1}}, \"y\": [8.552412645590682, 8.32034901838579, 9.645301804604854, 9.417446423181406, 9.970059880239521, 8.98711943793911, 9.455263900649168, 8.82774433935225, 9.376636982713462, 8.02017654476671, 9.039686428221462, 8.52540272614622, 8.579023682938617, 6.871381827334508, 7.133021206279262, 7.99764775066157, 8.254038504093826, 8.58754701211868, 7.800862406899254, 7.8469269424043295, 7.173800034656039, 8.198970840480275, 7.984228684080828, 8.852298663188783, 12.173913043478262], \"orientation\": \"v\", \"uid\": \"5c1d5cb9-fb3e-4153-ab14-7ef29605befb\", \"name\": \"10\", \"x\": [\"1415\", \"1416\", \"1417\", \"1418\", \"1419\", \"1420\", \"1421\", \"1422\", \"1423\", \"1424\", \"1425\", \"1426\", \"1427\", \"1428\", \"1429\", \"1430\", \"1431\", \"1432\", \"1433\", \"1434\", \"1435\", \"1436\", \"1437\", \"1438\", \"1439\"]}, {\"text\": \"\", \"type\": \"bar\", \"marker\": {\"color\": \"rgba(128, 177, 211, 0.6)\", \"line\": {\"color\": \"rgba(128, 177, 211, 0.8999999999999999)\", \"width\": 1}}, \"y\": [8.91846921797005, 9.566843253349953, 10.889856876166771, 11.137941442801088, 9.191616766467066, 9.660421545667447, 9.737510584250634, 10.232158211521925, 10.581456259821897, 10.03783102143758, 10.019598236158746, 9.144981412639405, 11.1164813919768, 8.255726151522778, 9.749380335995593, 9.55601293737136, 9.426864350520027, 8.378604262432093, 8.251666013328107, 7.924236567452649, 7.260440131692948, 7.941680960548885, 8.000657138163298, 8.167590479295729, 11.383399209486166], \"orientation\": \"v\", \"uid\": \"d6508205-3613-4e83-9cce-5bc32ff97aa8\", \"name\": \"11\", \"x\": [\"1415\", \"1416\", \"1417\", \"1418\", \"1419\", \"1420\", \"1421\", \"1422\", \"1423\", \"1424\", \"1425\", \"1426\", \"1427\", \"1428\", \"1429\", \"1430\", \"1431\", \"1432\", \"1433\", \"1434\", \"1435\", \"1436\", \"1437\", \"1438\", \"1439\"]}, {\"text\": \"\", \"type\": \"bar\", \"marker\": {\"color\": \"rgba(255, 153, 51, 0.6)\", \"line\": {\"color\": \"rgba(255, 153, 51, 0.8999999999999999)\", \"width\": 1}}, \"y\": [12.312811980033278, 11.436584605796197, 12.165525824517735, 12.888620585571989, 12.305389221556887, 13.026932084309134, 11.628563364380469, 12.439094296359988, 12.755369303300157, 10.441361916771754, 11.78343949044586, 12.01982651796778, 12.083131947800869, 10.344827586206897, 12.062792619113193, 9.938253454866215, 10.356273511838902, 8.378604262432093, 8.545668365346923, 8.484731349052957, 7.399064286952002, 8.49056603773585, 7.45851815344176, 7.7926312357352465, 6.416337285902503], \"orientation\": \"v\", \"uid\": \"1515c7f5-4d2a-4b54-bcff-eef05f8243dc\", \"name\": \"12\", \"x\": [\"1415\", \"1416\", \"1417\", \"1418\", \"1419\", \"1420\", \"1421\", \"1422\", \"1423\", \"1424\", \"1425\", \"1426\", \"1427\", \"1428\", \"1429\", \"1430\", \"1431\", \"1432\", \"1433\", \"1434\", \"1435\", \"1436\", \"1437\", \"1438\", \"1439\"]}], {\"legend\": {\"bgcolor\": \"#F5F6F9\", \"traceorder\": \"normal\", \"font\": {\"color\": \"#4D5663\"}}, \"xaxis\": {\"tickfont\": {\"color\": \"#4D5663\"}, \"title\": \"\", \"gridcolor\": \"#E1E5ED\", \"showgrid\": true, \"zerolinecolor\": \"#E1E5ED\", \"titlefont\": {\"color\": \"#4D5663\"}}, \"title\": \"Months percentage share over years\", \"barmode\": \"stack\", \"plot_bgcolor\": \"#F5F6F9\", \"height\": 400, \"width\": 1000, \"paper_bgcolor\": \"#F5F6F9\", \"yaxis\": {\"tickfont\": {\"color\": \"#4D5663\"}, \"title\": \"\", \"gridcolor\": \"#E1E5ED\", \"showgrid\": true, \"zerolinecolor\": \"#E1E5ED\", \"titlefont\": {\"color\": \"#4D5663\"}}, \"titlefont\": {\"color\": \"#4D5663\"}}, {\"showLink\": true, \"linkText\": \"Export to plot.ly\", \"plotlyServerURL\": \"https://plot.ly\"})});</script>"
      ],
      "text/vnd.plotly.v1+html": [
       "<div id=\"5bf175e4-6e3b-4f7e-b0cb-0eb660cbc4b9\" style=\"height: 400px; width: 1000px;\" class=\"plotly-graph-div\"></div><script type=\"text/javascript\">require([\"plotly\"], function(Plotly) { window.PLOTLYENV=window.PLOTLYENV || {};window.PLOTLYENV.BASE_URL=\"https://plot.ly\";Plotly.newPlot(\"5bf175e4-6e3b-4f7e-b0cb-0eb660cbc4b9\", [{\"text\": \"\", \"type\": \"bar\", \"marker\": {\"color\": \"rgba(255, 153, 51, 0.6)\", \"line\": {\"color\": \"rgba(255, 153, 51, 1.0)\", \"width\": 1}}, \"y\": [8.019966722129784, 8.538485509504518, 8.120721841941506, 9.387262300030184, 8.952095808383234, 8.899297423887589, 8.29805249788315, 8.627113786185154, 8.198009429020429, 9.65952080706179, 8.990690837824596, 9.66542750929368, 8.989850169163848, 12.106720362446515, 10.60313963095566, 10.14407527197883, 7.811462712989599, 8.817384036773925, 9.662877303018425, 8.793969849246231, 7.676312597470108, 7.25557461406518, 7.967800229998358, 7.6785132050864044, 6.508563899868247], \"orientation\": \"v\", \"uid\": \"72660e07-36dd-487d-86bd-48930c67ed52\", \"name\": \"01\", \"x\": [\"1415\", \"1416\", \"1417\", \"1418\", \"1419\", \"1420\", \"1421\", \"1422\", \"1423\", \"1424\", \"1425\", \"1426\", \"1427\", \"1428\", \"1429\", \"1430\", \"1431\", \"1432\", \"1433\", \"1434\", \"1435\", \"1436\", \"1437\", \"1438\", \"1439\"]}, {\"text\": \"\", \"type\": \"bar\", \"marker\": {\"color\": \"rgba(55, 128, 191, 0.6)\", \"line\": {\"color\": \"rgba(55, 128, 191, 1.0)\", \"width\": 1}}, \"y\": [8.119800332778702, 7.852913680274229, 6.440572495332919, 6.610322970117719, 7.754491017964071, 6.7330210772833725, 6.519898391193904, 5.0157638291774145, 7.1241487689889995, 6.91046658259773, 6.834884860362567, 7.236679058240396, 7.515708071532141, 8.306065945129625, 6.967777471770862, 7.497794766245222, 7.678689975658331, 7.6890931884663605, 7.487259898079185, 7.943563973714728, 7.399064286952002, 7.204116638078903, 7.031378347297519, 6.9938050211933485, 5.507246376811594], \"orientation\": \"v\", \"uid\": \"4376649c-80a0-4091-ad49-5669bcafdea3\", \"name\": \"02\", \"x\": [\"1415\", \"1416\", \"1417\", \"1418\", \"1419\", \"1420\", \"1421\", \"1422\", \"1423\", \"1424\", \"1425\", \"1426\", \"1427\", \"1428\", \"1429\", \"1430\", \"1431\", \"1432\", \"1433\", \"1434\", \"1435\", \"1436\", \"1437\", \"1438\", \"1439\"]}, {\"text\": \"\", \"type\": \"bar\", \"marker\": {\"color\": \"rgba(50, 171, 96, 0.6)\", \"line\": {\"color\": \"rgba(50, 171, 96, 1.0)\", \"width\": 1}}, \"y\": [7.054908485856905, 8.039887815518853, 6.565028002489111, 6.881980078478721, 6.766467065868263, 7.259953161592506, 6.7174710697149305, 5.474347950702207, 6.966998428496594, 6.73392181588903, 7.006369426751593, 7.534076827757125, 6.8632189463508935, 7.550969041026932, 7.077939961443129, 6.8215230814466326, 6.9926974994467805, 7.626410363560384, 7.781262250098001, 8.33011209895632, 9.599722751689482, 9.073756432246999, 9.413504189255791, 8.835996087381806, 7.180500658761528], \"orientation\": \"v\", \"uid\": \"86b83140-0602-4b71-b5f8-b24d3b65239b\", \"name\": \"03\", \"x\": [\"1415\", \"1416\", \"1417\", \"1418\", \"1419\", \"1420\", \"1421\", \"1422\", \"1423\", \"1424\", \"1425\", \"1426\", \"1427\", \"1428\", \"1429\", \"1430\", \"1431\", \"1432\", \"1433\", \"1434\", \"1435\", \"1436\", \"1437\", \"1438\", \"1439\"]}, {\"text\": \"\", \"type\": \"bar\", \"marker\": {\"color\": \"rgba(128, 0, 128, 0.6)\", \"line\": {\"color\": \"rgba(128, 0, 128, 1.0)\", \"width\": 1}}, \"y\": [7.321131447587355, 6.918043004051107, 6.160547604231487, 6.881980078478721, 7.395209580838323, 7.1135831381733015, 7.6771097939599215, 7.59529951275437, 6.626506024096386, 7.238335435056746, 6.29593336599706, 7.434944237918216, 6.766553890768487, 8.884973571608356, 7.931699256403195, 8.673919435460158, 8.32042487275946, 8.357709987463435, 9.1140729125833, 8.77464244298415, 11.037948362502165, 10.4631217838765, 9.36421882700838, 8.607760026084122, 9.011857707509881], \"orientation\": \"v\", \"uid\": \"2499a9bd-adcf-40ef-b60b-882061f90ec3\", \"name\": \"04\", \"x\": [\"1415\", \"1416\", \"1417\", \"1418\", \"1419\", \"1420\", \"1421\", \"1422\", \"1423\", \"1424\", \"1425\", \"1426\", \"1427\", \"1428\", \"1429\", \"1430\", \"1431\", \"1432\", \"1433\", \"1434\", \"1435\", \"1436\", \"1437\", \"1438\", \"1439\"]}, {\"text\": \"\", \"type\": \"bar\", \"marker\": {\"color\": \"rgba(219, 64, 82, 0.6)\", \"line\": {\"color\": \"rgba(219, 64, 82, 1.0)\", \"width\": 1}}, \"y\": [6.788685524126456, 6.762231224680586, 6.036092097075295, 6.338665861756716, 6.946107784431138, 7.494145199063232, 7.959356477561388, 8.397821725422757, 7.46464117338921, 6.532156368221942, 7.153356197942186, 7.236679058240396, 7.394876752054133, 7.148250692172161, 7.325805563205728, 7.497794766245222, 8.32042487275946, 8.232344337651483, 7.761662093296747, 8.81329725550831, 9.461098596430428, 8.49056603773585, 8.887793658616724, 9.194652755135312, 7.69433465085639], \"orientation\": \"v\", \"uid\": \"0811ab05-ce96-4c69-b33a-50db5461848f\", \"name\": \"05\", \"x\": [\"1415\", \"1416\", \"1417\", \"1418\", \"1419\", \"1420\", \"1421\", \"1422\", \"1423\", \"1424\", \"1425\", \"1426\", \"1427\", \"1428\", \"1429\", \"1430\", \"1431\", \"1432\", \"1433\", \"1434\", \"1435\", \"1436\", \"1437\", \"1438\", \"1439\"]}, {\"text\": \"\", \"type\": \"bar\", \"marker\": {\"color\": \"rgba(0, 128, 128, 0.6)\", \"line\": {\"color\": \"rgba(0, 128, 128, 1.0)\", \"width\": 1}}, \"y\": [7.420965058236273, 6.762231224680586, 7.405102675793404, 6.308481738605494, 6.55688622754491, 6.762295081967213, 7.705334462320068, 8.19719117225566, 7.1503404924044, 8.549810844892813, 8.35374816266536, 7.5836431226765795, 7.104881585306912, 7.576138937830355, 7.298264940787662, 8.203469567774183, 7.678689975658331, 7.605516088591726, 7.898863190905528, 8.581368380363354, 8.213481199098943, 8.679245283018867, 9.01922129127649, 8.330616237365504, 6.561264822134387], \"orientation\": \"v\", \"uid\": \"240d6bd1-46d8-4970-82c8-6f4f4761fefe\", \"name\": \"06\", \"x\": [\"1415\", \"1416\", \"1417\", \"1418\", \"1419\", \"1420\", \"1421\", \"1422\", \"1423\", \"1424\", \"1425\", \"1426\", \"1427\", \"1428\", \"1429\", \"1430\", \"1431\", \"1432\", \"1433\", \"1434\", \"1435\", \"1436\", \"1437\", \"1438\", \"1439\"]}, {\"text\": \"\", \"type\": \"bar\", \"marker\": {\"color\": \"rgba(255, 255, 51, 0.6)\", \"line\": {\"color\": \"rgba(255, 255, 51, 1.0)\", \"width\": 1}}, \"y\": [8.086522462562396, 7.946400747896541, 7.31176104542626, 6.731059462722608, 7.005988023952097, 7.084309133489461, 7.592435788879481, 7.738607050730868, 6.757464641173389, 7.440100882723834, 7.373836354728075, 7.112763320941759, 7.056549057515708, 7.500629247420086, 7.2431836959515286, 6.9979417818288745, 7.722947554768754, 8.232344337651483, 8.428067424539396, 7.112485504445304, 8.78530583954254, 8.181818181818182, 9.052078199441432, 8.689272905119008, 6.521739130434782], \"orientation\": \"v\", \"uid\": \"7b04b75a-43a1-42ae-b1d9-dbad0f09cdf4\", \"name\": \"07\", \"x\": [\"1415\", \"1416\", \"1417\", \"1418\", \"1419\", \"1420\", \"1421\", \"1422\", \"1423\", \"1424\", \"1425\", \"1426\", \"1427\", \"1428\", \"1429\", \"1430\", \"1431\", \"1432\", \"1433\", \"1434\", \"1435\", \"1436\", \"1437\", \"1438\", \"1439\"]}, {\"text\": \"\", \"type\": \"bar\", \"marker\": {\"color\": \"rgba(128, 128, 0, 0.6)\", \"line\": {\"color\": \"rgba(128, 128, 0, 1.0)\", \"width\": 1}}, \"y\": [8.319467554076539, 8.413836086008102, 8.49408836341008, 7.7271355267129485, 7.395209580838323, 7.055035128805621, 7.846457804120802, 7.824591573516767, 7.674174960712415, 8.045397225725095, 7.912787849093582, 7.434944237918216, 7.37071048815853, 7.701988421847471, 8.014321123657394, 8.291678917965305, 7.700818765213543, 8.42039281236941, 7.114856918855351, 8.078855817549286, 8.040201005025125, 8.216123499142366, 7.491375061606703, 8.542549722856212, 7.944664031620554], \"orientation\": \"v\", \"uid\": \"99597373-45b2-4758-be85-af59ba110860\", \"name\": \"08\", \"x\": [\"1415\", \"1416\", \"1417\", \"1418\", \"1419\", \"1420\", \"1421\", \"1422\", \"1423\", \"1424\", \"1425\", \"1426\", \"1427\", \"1428\", \"1429\", \"1430\", \"1431\", \"1432\", \"1433\", \"1434\", \"1435\", \"1436\", \"1437\", \"1438\", \"1439\"]}, {\"text\": \"\", \"type\": \"bar\", \"marker\": {\"color\": \"rgba(251, 128, 114, 0.6)\", \"line\": {\"color\": \"rgba(251, 128, 114, 1.0)\", \"width\": 1}}, \"y\": [9.084858569051582, 9.442193829853537, 10.76540136901058, 9.68910353154241, 9.760479041916167, 9.923887587822014, 8.862545865086085, 9.630266552020636, 9.324253535882661, 10.390920554854981, 9.235668789808917, 9.070631970260223, 9.159014016433058, 7.752328215454317, 8.592674194436794, 8.379888268156424, 9.736667404292985, 9.674049310488925, 10.152881223049784, 9.31580981832238, 7.953560907988217, 7.804459691252144, 8.329226219812716, 8.314313661558526, 13.096179183135707], \"orientation\": \"v\", \"uid\": \"0175a343-7d7d-4797-9b7e-25d57f05f427\", \"name\": \"09\", \"x\": [\"1415\", \"1416\", \"1417\", \"1418\", \"1419\", \"1420\", \"1421\", \"1422\", \"1423\", \"1424\", \"1425\", \"1426\", \"1427\", \"1428\", \"1429\", \"1430\", \"1431\", \"1432\", \"1433\", \"1434\", \"1435\", \"1436\", \"1437\", \"1438\", \"1439\"]}, {\"text\": \"\", \"type\": \"bar\", \"marker\": {\"color\": \"rgba(128, 177, 211, 0.6)\", \"line\": {\"color\": \"rgba(128, 177, 211, 1.0)\", \"width\": 1}}, \"y\": [8.552412645590682, 8.32034901838579, 9.645301804604854, 9.417446423181406, 9.970059880239521, 8.98711943793911, 9.455263900649168, 8.82774433935225, 9.376636982713462, 8.02017654476671, 9.039686428221462, 8.52540272614622, 8.579023682938617, 6.871381827334508, 7.133021206279262, 7.99764775066157, 8.254038504093826, 8.58754701211868, 7.800862406899254, 7.8469269424043295, 7.173800034656039, 8.198970840480275, 7.984228684080828, 8.852298663188783, 12.173913043478262], \"orientation\": \"v\", \"uid\": \"5c1d5cb9-fb3e-4153-ab14-7ef29605befb\", \"name\": \"10\", \"x\": [\"1415\", \"1416\", \"1417\", \"1418\", \"1419\", \"1420\", \"1421\", \"1422\", \"1423\", \"1424\", \"1425\", \"1426\", \"1427\", \"1428\", \"1429\", \"1430\", \"1431\", \"1432\", \"1433\", \"1434\", \"1435\", \"1436\", \"1437\", \"1438\", \"1439\"]}, {\"text\": \"\", \"type\": \"bar\", \"marker\": {\"color\": \"rgba(128, 177, 211, 0.6)\", \"line\": {\"color\": \"rgba(128, 177, 211, 0.8999999999999999)\", \"width\": 1}}, \"y\": [8.91846921797005, 9.566843253349953, 10.889856876166771, 11.137941442801088, 9.191616766467066, 9.660421545667447, 9.737510584250634, 10.232158211521925, 10.581456259821897, 10.03783102143758, 10.019598236158746, 9.144981412639405, 11.1164813919768, 8.255726151522778, 9.749380335995593, 9.55601293737136, 9.426864350520027, 8.378604262432093, 8.251666013328107, 7.924236567452649, 7.260440131692948, 7.941680960548885, 8.000657138163298, 8.167590479295729, 11.383399209486166], \"orientation\": \"v\", \"uid\": \"d6508205-3613-4e83-9cce-5bc32ff97aa8\", \"name\": \"11\", \"x\": [\"1415\", \"1416\", \"1417\", \"1418\", \"1419\", \"1420\", \"1421\", \"1422\", \"1423\", \"1424\", \"1425\", \"1426\", \"1427\", \"1428\", \"1429\", \"1430\", \"1431\", \"1432\", \"1433\", \"1434\", \"1435\", \"1436\", \"1437\", \"1438\", \"1439\"]}, {\"text\": \"\", \"type\": \"bar\", \"marker\": {\"color\": \"rgba(255, 153, 51, 0.6)\", \"line\": {\"color\": \"rgba(255, 153, 51, 0.8999999999999999)\", \"width\": 1}}, \"y\": [12.312811980033278, 11.436584605796197, 12.165525824517735, 12.888620585571989, 12.305389221556887, 13.026932084309134, 11.628563364380469, 12.439094296359988, 12.755369303300157, 10.441361916771754, 11.78343949044586, 12.01982651796778, 12.083131947800869, 10.344827586206897, 12.062792619113193, 9.938253454866215, 10.356273511838902, 8.378604262432093, 8.545668365346923, 8.484731349052957, 7.399064286952002, 8.49056603773585, 7.45851815344176, 7.7926312357352465, 6.416337285902503], \"orientation\": \"v\", \"uid\": \"1515c7f5-4d2a-4b54-bcff-eef05f8243dc\", \"name\": \"12\", \"x\": [\"1415\", \"1416\", \"1417\", \"1418\", \"1419\", \"1420\", \"1421\", \"1422\", \"1423\", \"1424\", \"1425\", \"1426\", \"1427\", \"1428\", \"1429\", \"1430\", \"1431\", \"1432\", \"1433\", \"1434\", \"1435\", \"1436\", \"1437\", \"1438\", \"1439\"]}], {\"legend\": {\"bgcolor\": \"#F5F6F9\", \"traceorder\": \"normal\", \"font\": {\"color\": \"#4D5663\"}}, \"xaxis\": {\"tickfont\": {\"color\": \"#4D5663\"}, \"title\": \"\", \"gridcolor\": \"#E1E5ED\", \"showgrid\": true, \"zerolinecolor\": \"#E1E5ED\", \"titlefont\": {\"color\": \"#4D5663\"}}, \"title\": \"Months percentage share over years\", \"barmode\": \"stack\", \"plot_bgcolor\": \"#F5F6F9\", \"height\": 400, \"width\": 1000, \"paper_bgcolor\": \"#F5F6F9\", \"yaxis\": {\"tickfont\": {\"color\": \"#4D5663\"}, \"title\": \"\", \"gridcolor\": \"#E1E5ED\", \"showgrid\": true, \"zerolinecolor\": \"#E1E5ED\", \"titlefont\": {\"color\": \"#4D5663\"}}, \"titlefont\": {\"color\": \"#4D5663\"}}, {\"showLink\": true, \"linkText\": \"Export to plot.ly\", \"plotlyServerURL\": \"https://plot.ly\"})});</script>"
      ]
     },
     "metadata": {},
     "output_type": "display_data"
    },
    {
     "data": {
      "application/vnd.plotly.v1+json": {
       "config": {
        "linkText": "Export to plot.ly",
        "plotlyServerURL": "https://plot.ly",
        "showLink": true
       },
       "data": [
        {
         "boxpoints": false,
         "line": {
          "width": 1.3
         },
         "marker": {
          "color": "rgba(255, 153, 51, 1.0)"
         },
         "name": "01",
         "orientation": "v",
         "type": "box",
         "uid": "0e8256b4-7f8e-4979-b90f-2ff96a85ab3a",
         "y": [
          8.019966722129784,
          8.538485509504518,
          8.120721841941506,
          9.387262300030184,
          8.952095808383234,
          8.899297423887589,
          8.29805249788315,
          8.627113786185154,
          8.198009429020429,
          9.65952080706179,
          8.990690837824596,
          9.66542750929368,
          8.989850169163848,
          12.106720362446515,
          10.60313963095566,
          10.14407527197883,
          7.811462712989599,
          8.817384036773925,
          9.662877303018425,
          8.793969849246231,
          7.676312597470108,
          7.25557461406518,
          7.967800229998358,
          7.6785132050864044,
          6.508563899868247
         ]
        },
        {
         "boxpoints": false,
         "line": {
          "width": 1.3
         },
         "marker": {
          "color": "rgba(55, 128, 191, 1.0)"
         },
         "name": "02",
         "orientation": "v",
         "type": "box",
         "uid": "d4a0e856-b737-4b49-b537-8cd097f46418",
         "y": [
          8.119800332778702,
          7.852913680274229,
          6.440572495332919,
          6.610322970117719,
          7.754491017964071,
          6.7330210772833725,
          6.519898391193904,
          5.0157638291774145,
          7.1241487689889995,
          6.91046658259773,
          6.834884860362567,
          7.236679058240396,
          7.515708071532141,
          8.306065945129625,
          6.967777471770862,
          7.497794766245222,
          7.678689975658331,
          7.6890931884663605,
          7.487259898079185,
          7.943563973714728,
          7.399064286952002,
          7.204116638078903,
          7.031378347297519,
          6.9938050211933485,
          5.507246376811594
         ]
        },
        {
         "boxpoints": false,
         "line": {
          "width": 1.3
         },
         "marker": {
          "color": "rgba(50, 171, 96, 1.0)"
         },
         "name": "03",
         "orientation": "v",
         "type": "box",
         "uid": "d20fbb01-689c-4449-bafb-f6f9eb9881a8",
         "y": [
          7.054908485856905,
          8.039887815518853,
          6.565028002489111,
          6.881980078478721,
          6.766467065868263,
          7.259953161592506,
          6.7174710697149305,
          5.474347950702207,
          6.966998428496594,
          6.73392181588903,
          7.006369426751593,
          7.534076827757125,
          6.8632189463508935,
          7.550969041026932,
          7.077939961443129,
          6.8215230814466326,
          6.9926974994467805,
          7.626410363560384,
          7.781262250098001,
          8.33011209895632,
          9.599722751689482,
          9.073756432246999,
          9.413504189255791,
          8.835996087381806,
          7.180500658761528
         ]
        },
        {
         "boxpoints": false,
         "line": {
          "width": 1.3
         },
         "marker": {
          "color": "rgba(128, 0, 128, 1.0)"
         },
         "name": "04",
         "orientation": "v",
         "type": "box",
         "uid": "4f7eae64-b38f-4406-acc2-b41fda94caa7",
         "y": [
          7.321131447587355,
          6.918043004051107,
          6.160547604231487,
          6.881980078478721,
          7.395209580838323,
          7.1135831381733015,
          7.6771097939599215,
          7.59529951275437,
          6.626506024096386,
          7.238335435056746,
          6.29593336599706,
          7.434944237918216,
          6.766553890768487,
          8.884973571608356,
          7.931699256403195,
          8.673919435460158,
          8.32042487275946,
          8.357709987463435,
          9.1140729125833,
          8.77464244298415,
          11.037948362502165,
          10.4631217838765,
          9.36421882700838,
          8.607760026084122,
          9.011857707509881
         ]
        },
        {
         "boxpoints": false,
         "line": {
          "width": 1.3
         },
         "marker": {
          "color": "rgba(219, 64, 82, 1.0)"
         },
         "name": "05",
         "orientation": "v",
         "type": "box",
         "uid": "24b3eef5-4fd7-489d-afd8-9107744ae776",
         "y": [
          6.788685524126456,
          6.762231224680586,
          6.036092097075295,
          6.338665861756716,
          6.946107784431138,
          7.494145199063232,
          7.959356477561388,
          8.397821725422757,
          7.46464117338921,
          6.532156368221942,
          7.153356197942186,
          7.236679058240396,
          7.394876752054133,
          7.148250692172161,
          7.325805563205728,
          7.497794766245222,
          8.32042487275946,
          8.232344337651483,
          7.761662093296747,
          8.81329725550831,
          9.461098596430428,
          8.49056603773585,
          8.887793658616724,
          9.194652755135312,
          7.69433465085639
         ]
        },
        {
         "boxpoints": false,
         "line": {
          "width": 1.3
         },
         "marker": {
          "color": "rgba(0, 128, 128, 1.0)"
         },
         "name": "06",
         "orientation": "v",
         "type": "box",
         "uid": "1d6a9588-d6a0-4bb3-bfb4-b4f78c3808ef",
         "y": [
          7.420965058236273,
          6.762231224680586,
          7.405102675793404,
          6.308481738605494,
          6.55688622754491,
          6.762295081967213,
          7.705334462320068,
          8.19719117225566,
          7.1503404924044,
          8.549810844892813,
          8.35374816266536,
          7.5836431226765795,
          7.104881585306912,
          7.576138937830355,
          7.298264940787662,
          8.203469567774183,
          7.678689975658331,
          7.605516088591726,
          7.898863190905528,
          8.581368380363354,
          8.213481199098943,
          8.679245283018867,
          9.01922129127649,
          8.330616237365504,
          6.561264822134387
         ]
        },
        {
         "boxpoints": false,
         "line": {
          "width": 1.3
         },
         "marker": {
          "color": "rgba(255, 255, 51, 1.0)"
         },
         "name": "07",
         "orientation": "v",
         "type": "box",
         "uid": "7187cf6f-8301-40b5-a1bb-fd06b35b1b14",
         "y": [
          8.086522462562396,
          7.946400747896541,
          7.31176104542626,
          6.731059462722608,
          7.005988023952097,
          7.084309133489461,
          7.592435788879481,
          7.738607050730868,
          6.757464641173389,
          7.440100882723834,
          7.373836354728075,
          7.112763320941759,
          7.056549057515708,
          7.500629247420086,
          7.2431836959515286,
          6.9979417818288745,
          7.722947554768754,
          8.232344337651483,
          8.428067424539396,
          7.112485504445304,
          8.78530583954254,
          8.181818181818182,
          9.052078199441432,
          8.689272905119008,
          6.521739130434782
         ]
        },
        {
         "boxpoints": false,
         "line": {
          "width": 1.3
         },
         "marker": {
          "color": "rgba(128, 128, 0, 1.0)"
         },
         "name": "08",
         "orientation": "v",
         "type": "box",
         "uid": "457ce523-2907-4f8d-8f6a-f52132c19935",
         "y": [
          8.319467554076539,
          8.413836086008102,
          8.49408836341008,
          7.7271355267129485,
          7.395209580838323,
          7.055035128805621,
          7.846457804120802,
          7.824591573516767,
          7.674174960712415,
          8.045397225725095,
          7.912787849093582,
          7.434944237918216,
          7.37071048815853,
          7.701988421847471,
          8.014321123657394,
          8.291678917965305,
          7.700818765213543,
          8.42039281236941,
          7.114856918855351,
          8.078855817549286,
          8.040201005025125,
          8.216123499142366,
          7.491375061606703,
          8.542549722856212,
          7.944664031620554
         ]
        },
        {
         "boxpoints": false,
         "line": {
          "width": 1.3
         },
         "marker": {
          "color": "rgba(251, 128, 114, 1.0)"
         },
         "name": "09",
         "orientation": "v",
         "type": "box",
         "uid": "077ee313-bf1b-4b05-aca7-fcf2b289a525",
         "y": [
          9.084858569051582,
          9.442193829853537,
          10.76540136901058,
          9.68910353154241,
          9.760479041916167,
          9.923887587822014,
          8.862545865086085,
          9.630266552020636,
          9.324253535882661,
          10.390920554854981,
          9.235668789808917,
          9.070631970260223,
          9.159014016433058,
          7.752328215454317,
          8.592674194436794,
          8.379888268156424,
          9.736667404292985,
          9.674049310488925,
          10.152881223049784,
          9.31580981832238,
          7.953560907988217,
          7.804459691252144,
          8.329226219812716,
          8.314313661558526,
          13.096179183135707
         ]
        },
        {
         "boxpoints": false,
         "line": {
          "width": 1.3
         },
         "marker": {
          "color": "rgba(128, 177, 211, 1.0)"
         },
         "name": "10",
         "orientation": "v",
         "type": "box",
         "uid": "40e9d152-b04e-4886-b107-96a632b856f6",
         "y": [
          8.552412645590682,
          8.32034901838579,
          9.645301804604854,
          9.417446423181406,
          9.970059880239521,
          8.98711943793911,
          9.455263900649168,
          8.82774433935225,
          9.376636982713462,
          8.02017654476671,
          9.039686428221462,
          8.52540272614622,
          8.579023682938617,
          6.871381827334508,
          7.133021206279262,
          7.99764775066157,
          8.254038504093826,
          8.58754701211868,
          7.800862406899254,
          7.8469269424043295,
          7.173800034656039,
          8.198970840480275,
          7.984228684080828,
          8.852298663188783,
          12.173913043478262
         ]
        },
        {
         "boxpoints": false,
         "line": {
          "width": 1.3
         },
         "marker": {
          "color": "rgba(128, 177, 211, 0.8999999999999999)"
         },
         "name": "11",
         "orientation": "v",
         "type": "box",
         "uid": "2a56b974-9b7c-461c-b9be-a3356bfaa55b",
         "y": [
          8.91846921797005,
          9.566843253349953,
          10.889856876166771,
          11.137941442801088,
          9.191616766467066,
          9.660421545667447,
          9.737510584250634,
          10.232158211521925,
          10.581456259821897,
          10.03783102143758,
          10.019598236158746,
          9.144981412639405,
          11.1164813919768,
          8.255726151522778,
          9.749380335995593,
          9.55601293737136,
          9.426864350520027,
          8.378604262432093,
          8.251666013328107,
          7.924236567452649,
          7.260440131692948,
          7.941680960548885,
          8.000657138163298,
          8.167590479295729,
          11.383399209486166
         ]
        },
        {
         "boxpoints": false,
         "line": {
          "width": 1.3
         },
         "marker": {
          "color": "rgba(255, 153, 51, 0.8999999999999999)"
         },
         "name": "12",
         "orientation": "v",
         "type": "box",
         "uid": "211fb332-88e1-4e3c-b622-5e644a459317",
         "y": [
          12.312811980033278,
          11.436584605796197,
          12.165525824517735,
          12.888620585571989,
          12.305389221556887,
          13.026932084309134,
          11.628563364380469,
          12.439094296359988,
          12.755369303300157,
          10.441361916771754,
          11.78343949044586,
          12.01982651796778,
          12.083131947800869,
          10.344827586206897,
          12.062792619113193,
          9.938253454866215,
          10.356273511838902,
          8.378604262432093,
          8.545668365346923,
          8.484731349052957,
          7.399064286952002,
          8.49056603773585,
          7.45851815344176,
          7.7926312357352465,
          6.416337285902503
         ]
        }
       ],
       "layout": {
        "title": "Months percentage share overall",
        "yaxis": {
         "range": [
          0,
          50
         ]
        }
       }
      },
      "text/html": [
       "<div id=\"47a7e09a-8761-4bb8-b305-ce2293023d5d\" style=\"height: 525px; width: 100%;\" class=\"plotly-graph-div\"></div><script type=\"text/javascript\">require([\"plotly\"], function(Plotly) { window.PLOTLYENV=window.PLOTLYENV || {};window.PLOTLYENV.BASE_URL=\"https://plot.ly\";Plotly.newPlot(\"47a7e09a-8761-4bb8-b305-ce2293023d5d\", [{\"type\": \"box\", \"marker\": {\"color\": \"rgba(255, 153, 51, 1.0)\"}, \"y\": [8.019966722129784, 8.538485509504518, 8.120721841941506, 9.387262300030184, 8.952095808383234, 8.899297423887589, 8.29805249788315, 8.627113786185154, 8.198009429020429, 9.65952080706179, 8.990690837824596, 9.66542750929368, 8.989850169163848, 12.106720362446515, 10.60313963095566, 10.14407527197883, 7.811462712989599, 8.817384036773925, 9.662877303018425, 8.793969849246231, 7.676312597470108, 7.25557461406518, 7.967800229998358, 7.6785132050864044, 6.508563899868247], \"boxpoints\": false, \"orientation\": \"v\", \"uid\": \"45d68b7c-b1e6-41c3-8e28-532b0b119924\", \"name\": \"01\", \"line\": {\"width\": 1.3}}, {\"type\": \"box\", \"marker\": {\"color\": \"rgba(55, 128, 191, 1.0)\"}, \"y\": [8.119800332778702, 7.852913680274229, 6.440572495332919, 6.610322970117719, 7.754491017964071, 6.7330210772833725, 6.519898391193904, 5.0157638291774145, 7.1241487689889995, 6.91046658259773, 6.834884860362567, 7.236679058240396, 7.515708071532141, 8.306065945129625, 6.967777471770862, 7.497794766245222, 7.678689975658331, 7.6890931884663605, 7.487259898079185, 7.943563973714728, 7.399064286952002, 7.204116638078903, 7.031378347297519, 6.9938050211933485, 5.507246376811594], \"boxpoints\": false, \"orientation\": \"v\", \"uid\": \"5261b28e-b9f8-454c-bfee-40af53bb635e\", \"name\": \"02\", \"line\": {\"width\": 1.3}}, {\"type\": \"box\", \"marker\": {\"color\": \"rgba(50, 171, 96, 1.0)\"}, \"y\": [7.054908485856905, 8.039887815518853, 6.565028002489111, 6.881980078478721, 6.766467065868263, 7.259953161592506, 6.7174710697149305, 5.474347950702207, 6.966998428496594, 6.73392181588903, 7.006369426751593, 7.534076827757125, 6.8632189463508935, 7.550969041026932, 7.077939961443129, 6.8215230814466326, 6.9926974994467805, 7.626410363560384, 7.781262250098001, 8.33011209895632, 9.599722751689482, 9.073756432246999, 9.413504189255791, 8.835996087381806, 7.180500658761528], \"boxpoints\": false, \"orientation\": \"v\", \"uid\": \"3b2896cd-e6c1-41de-8c62-47a24f100702\", \"name\": \"03\", \"line\": {\"width\": 1.3}}, {\"type\": \"box\", \"marker\": {\"color\": \"rgba(128, 0, 128, 1.0)\"}, \"y\": [7.321131447587355, 6.918043004051107, 6.160547604231487, 6.881980078478721, 7.395209580838323, 7.1135831381733015, 7.6771097939599215, 7.59529951275437, 6.626506024096386, 7.238335435056746, 6.29593336599706, 7.434944237918216, 6.766553890768487, 8.884973571608356, 7.931699256403195, 8.673919435460158, 8.32042487275946, 8.357709987463435, 9.1140729125833, 8.77464244298415, 11.037948362502165, 10.4631217838765, 9.36421882700838, 8.607760026084122, 9.011857707509881], \"boxpoints\": false, \"orientation\": \"v\", \"uid\": \"02486d98-f1d2-41b3-af19-86d1cdb1a031\", \"name\": \"04\", \"line\": {\"width\": 1.3}}, {\"type\": \"box\", \"marker\": {\"color\": \"rgba(219, 64, 82, 1.0)\"}, \"y\": [6.788685524126456, 6.762231224680586, 6.036092097075295, 6.338665861756716, 6.946107784431138, 7.494145199063232, 7.959356477561388, 8.397821725422757, 7.46464117338921, 6.532156368221942, 7.153356197942186, 7.236679058240396, 7.394876752054133, 7.148250692172161, 7.325805563205728, 7.497794766245222, 8.32042487275946, 8.232344337651483, 7.761662093296747, 8.81329725550831, 9.461098596430428, 8.49056603773585, 8.887793658616724, 9.194652755135312, 7.69433465085639], \"boxpoints\": false, \"orientation\": \"v\", \"uid\": \"f525c29d-bb44-408c-bb7e-5057e053d313\", \"name\": \"05\", \"line\": {\"width\": 1.3}}, {\"type\": \"box\", \"marker\": {\"color\": \"rgba(0, 128, 128, 1.0)\"}, \"y\": [7.420965058236273, 6.762231224680586, 7.405102675793404, 6.308481738605494, 6.55688622754491, 6.762295081967213, 7.705334462320068, 8.19719117225566, 7.1503404924044, 8.549810844892813, 8.35374816266536, 7.5836431226765795, 7.104881585306912, 7.576138937830355, 7.298264940787662, 8.203469567774183, 7.678689975658331, 7.605516088591726, 7.898863190905528, 8.581368380363354, 8.213481199098943, 8.679245283018867, 9.01922129127649, 8.330616237365504, 6.561264822134387], \"boxpoints\": false, \"orientation\": \"v\", \"uid\": \"95ba528c-0490-49e4-9efd-8d511d4a4ec2\", \"name\": \"06\", \"line\": {\"width\": 1.3}}, {\"type\": \"box\", \"marker\": {\"color\": \"rgba(255, 255, 51, 1.0)\"}, \"y\": [8.086522462562396, 7.946400747896541, 7.31176104542626, 6.731059462722608, 7.005988023952097, 7.084309133489461, 7.592435788879481, 7.738607050730868, 6.757464641173389, 7.440100882723834, 7.373836354728075, 7.112763320941759, 7.056549057515708, 7.500629247420086, 7.2431836959515286, 6.9979417818288745, 7.722947554768754, 8.232344337651483, 8.428067424539396, 7.112485504445304, 8.78530583954254, 8.181818181818182, 9.052078199441432, 8.689272905119008, 6.521739130434782], \"boxpoints\": false, \"orientation\": \"v\", \"uid\": \"52ac0a92-a8d3-4415-a21a-4b1efcd28c4c\", \"name\": \"07\", \"line\": {\"width\": 1.3}}, {\"type\": \"box\", \"marker\": {\"color\": \"rgba(128, 128, 0, 1.0)\"}, \"y\": [8.319467554076539, 8.413836086008102, 8.49408836341008, 7.7271355267129485, 7.395209580838323, 7.055035128805621, 7.846457804120802, 7.824591573516767, 7.674174960712415, 8.045397225725095, 7.912787849093582, 7.434944237918216, 7.37071048815853, 7.701988421847471, 8.014321123657394, 8.291678917965305, 7.700818765213543, 8.42039281236941, 7.114856918855351, 8.078855817549286, 8.040201005025125, 8.216123499142366, 7.491375061606703, 8.542549722856212, 7.944664031620554], \"boxpoints\": false, \"orientation\": \"v\", \"uid\": \"746d38ce-638d-4fcd-a13d-6b8e91447f5c\", \"name\": \"08\", \"line\": {\"width\": 1.3}}, {\"type\": \"box\", \"marker\": {\"color\": \"rgba(251, 128, 114, 1.0)\"}, \"y\": [9.084858569051582, 9.442193829853537, 10.76540136901058, 9.68910353154241, 9.760479041916167, 9.923887587822014, 8.862545865086085, 9.630266552020636, 9.324253535882661, 10.390920554854981, 9.235668789808917, 9.070631970260223, 9.159014016433058, 7.752328215454317, 8.592674194436794, 8.379888268156424, 9.736667404292985, 9.674049310488925, 10.152881223049784, 9.31580981832238, 7.953560907988217, 7.804459691252144, 8.329226219812716, 8.314313661558526, 13.096179183135707], \"boxpoints\": false, \"orientation\": \"v\", \"uid\": \"1c4113f6-9b5e-40fe-8a81-a66bd55a9df2\", \"name\": \"09\", \"line\": {\"width\": 1.3}}, {\"type\": \"box\", \"marker\": {\"color\": \"rgba(128, 177, 211, 1.0)\"}, \"y\": [8.552412645590682, 8.32034901838579, 9.645301804604854, 9.417446423181406, 9.970059880239521, 8.98711943793911, 9.455263900649168, 8.82774433935225, 9.376636982713462, 8.02017654476671, 9.039686428221462, 8.52540272614622, 8.579023682938617, 6.871381827334508, 7.133021206279262, 7.99764775066157, 8.254038504093826, 8.58754701211868, 7.800862406899254, 7.8469269424043295, 7.173800034656039, 8.198970840480275, 7.984228684080828, 8.852298663188783, 12.173913043478262], \"boxpoints\": false, \"orientation\": \"v\", \"uid\": \"663cfac4-a3bb-46e6-aaaf-c6f35accccdb\", \"name\": \"10\", \"line\": {\"width\": 1.3}}, {\"type\": \"box\", \"marker\": {\"color\": \"rgba(128, 177, 211, 0.8999999999999999)\"}, \"y\": [8.91846921797005, 9.566843253349953, 10.889856876166771, 11.137941442801088, 9.191616766467066, 9.660421545667447, 9.737510584250634, 10.232158211521925, 10.581456259821897, 10.03783102143758, 10.019598236158746, 9.144981412639405, 11.1164813919768, 8.255726151522778, 9.749380335995593, 9.55601293737136, 9.426864350520027, 8.378604262432093, 8.251666013328107, 7.924236567452649, 7.260440131692948, 7.941680960548885, 8.000657138163298, 8.167590479295729, 11.383399209486166], \"boxpoints\": false, \"orientation\": \"v\", \"uid\": \"9bce24e4-dc3b-4974-a9b4-b647d3bcaa00\", \"name\": \"11\", \"line\": {\"width\": 1.3}}, {\"type\": \"box\", \"marker\": {\"color\": \"rgba(255, 153, 51, 0.8999999999999999)\"}, \"y\": [12.312811980033278, 11.436584605796197, 12.165525824517735, 12.888620585571989, 12.305389221556887, 13.026932084309134, 11.628563364380469, 12.439094296359988, 12.755369303300157, 10.441361916771754, 11.78343949044586, 12.01982651796778, 12.083131947800869, 10.344827586206897, 12.062792619113193, 9.938253454866215, 10.356273511838902, 8.378604262432093, 8.545668365346923, 8.484731349052957, 7.399064286952002, 8.49056603773585, 7.45851815344176, 7.7926312357352465, 6.416337285902503], \"boxpoints\": false, \"orientation\": \"v\", \"uid\": \"9ae97df0-c26d-4171-9d77-05292391bdfb\", \"name\": \"12\", \"line\": {\"width\": 1.3}}], {\"title\": \"Months percentage share overall\", \"yaxis\": {\"range\": [0, 50]}}, {\"showLink\": true, \"linkText\": \"Export to plot.ly\", \"plotlyServerURL\": \"https://plot.ly\"})});</script><script type=\"text/javascript\">window.addEventListener(\"resize\", function(){window._Plotly.Plots.resize(document.getElementById(\"47a7e09a-8761-4bb8-b305-ce2293023d5d\"));});</script>"
      ],
      "text/vnd.plotly.v1+html": [
       "<div id=\"47a7e09a-8761-4bb8-b305-ce2293023d5d\" style=\"height: 525px; width: 100%;\" class=\"plotly-graph-div\"></div><script type=\"text/javascript\">require([\"plotly\"], function(Plotly) { window.PLOTLYENV=window.PLOTLYENV || {};window.PLOTLYENV.BASE_URL=\"https://plot.ly\";Plotly.newPlot(\"47a7e09a-8761-4bb8-b305-ce2293023d5d\", [{\"type\": \"box\", \"marker\": {\"color\": \"rgba(255, 153, 51, 1.0)\"}, \"y\": [8.019966722129784, 8.538485509504518, 8.120721841941506, 9.387262300030184, 8.952095808383234, 8.899297423887589, 8.29805249788315, 8.627113786185154, 8.198009429020429, 9.65952080706179, 8.990690837824596, 9.66542750929368, 8.989850169163848, 12.106720362446515, 10.60313963095566, 10.14407527197883, 7.811462712989599, 8.817384036773925, 9.662877303018425, 8.793969849246231, 7.676312597470108, 7.25557461406518, 7.967800229998358, 7.6785132050864044, 6.508563899868247], \"boxpoints\": false, \"orientation\": \"v\", \"uid\": \"45d68b7c-b1e6-41c3-8e28-532b0b119924\", \"name\": \"01\", \"line\": {\"width\": 1.3}}, {\"type\": \"box\", \"marker\": {\"color\": \"rgba(55, 128, 191, 1.0)\"}, \"y\": [8.119800332778702, 7.852913680274229, 6.440572495332919, 6.610322970117719, 7.754491017964071, 6.7330210772833725, 6.519898391193904, 5.0157638291774145, 7.1241487689889995, 6.91046658259773, 6.834884860362567, 7.236679058240396, 7.515708071532141, 8.306065945129625, 6.967777471770862, 7.497794766245222, 7.678689975658331, 7.6890931884663605, 7.487259898079185, 7.943563973714728, 7.399064286952002, 7.204116638078903, 7.031378347297519, 6.9938050211933485, 5.507246376811594], \"boxpoints\": false, \"orientation\": \"v\", \"uid\": \"5261b28e-b9f8-454c-bfee-40af53bb635e\", \"name\": \"02\", \"line\": {\"width\": 1.3}}, {\"type\": \"box\", \"marker\": {\"color\": \"rgba(50, 171, 96, 1.0)\"}, \"y\": [7.054908485856905, 8.039887815518853, 6.565028002489111, 6.881980078478721, 6.766467065868263, 7.259953161592506, 6.7174710697149305, 5.474347950702207, 6.966998428496594, 6.73392181588903, 7.006369426751593, 7.534076827757125, 6.8632189463508935, 7.550969041026932, 7.077939961443129, 6.8215230814466326, 6.9926974994467805, 7.626410363560384, 7.781262250098001, 8.33011209895632, 9.599722751689482, 9.073756432246999, 9.413504189255791, 8.835996087381806, 7.180500658761528], \"boxpoints\": false, \"orientation\": \"v\", \"uid\": \"3b2896cd-e6c1-41de-8c62-47a24f100702\", \"name\": \"03\", \"line\": {\"width\": 1.3}}, {\"type\": \"box\", \"marker\": {\"color\": \"rgba(128, 0, 128, 1.0)\"}, \"y\": [7.321131447587355, 6.918043004051107, 6.160547604231487, 6.881980078478721, 7.395209580838323, 7.1135831381733015, 7.6771097939599215, 7.59529951275437, 6.626506024096386, 7.238335435056746, 6.29593336599706, 7.434944237918216, 6.766553890768487, 8.884973571608356, 7.931699256403195, 8.673919435460158, 8.32042487275946, 8.357709987463435, 9.1140729125833, 8.77464244298415, 11.037948362502165, 10.4631217838765, 9.36421882700838, 8.607760026084122, 9.011857707509881], \"boxpoints\": false, \"orientation\": \"v\", \"uid\": \"02486d98-f1d2-41b3-af19-86d1cdb1a031\", \"name\": \"04\", \"line\": {\"width\": 1.3}}, {\"type\": \"box\", \"marker\": {\"color\": \"rgba(219, 64, 82, 1.0)\"}, \"y\": [6.788685524126456, 6.762231224680586, 6.036092097075295, 6.338665861756716, 6.946107784431138, 7.494145199063232, 7.959356477561388, 8.397821725422757, 7.46464117338921, 6.532156368221942, 7.153356197942186, 7.236679058240396, 7.394876752054133, 7.148250692172161, 7.325805563205728, 7.497794766245222, 8.32042487275946, 8.232344337651483, 7.761662093296747, 8.81329725550831, 9.461098596430428, 8.49056603773585, 8.887793658616724, 9.194652755135312, 7.69433465085639], \"boxpoints\": false, \"orientation\": \"v\", \"uid\": \"f525c29d-bb44-408c-bb7e-5057e053d313\", \"name\": \"05\", \"line\": {\"width\": 1.3}}, {\"type\": \"box\", \"marker\": {\"color\": \"rgba(0, 128, 128, 1.0)\"}, \"y\": [7.420965058236273, 6.762231224680586, 7.405102675793404, 6.308481738605494, 6.55688622754491, 6.762295081967213, 7.705334462320068, 8.19719117225566, 7.1503404924044, 8.549810844892813, 8.35374816266536, 7.5836431226765795, 7.104881585306912, 7.576138937830355, 7.298264940787662, 8.203469567774183, 7.678689975658331, 7.605516088591726, 7.898863190905528, 8.581368380363354, 8.213481199098943, 8.679245283018867, 9.01922129127649, 8.330616237365504, 6.561264822134387], \"boxpoints\": false, \"orientation\": \"v\", \"uid\": \"95ba528c-0490-49e4-9efd-8d511d4a4ec2\", \"name\": \"06\", \"line\": {\"width\": 1.3}}, {\"type\": \"box\", \"marker\": {\"color\": \"rgba(255, 255, 51, 1.0)\"}, \"y\": [8.086522462562396, 7.946400747896541, 7.31176104542626, 6.731059462722608, 7.005988023952097, 7.084309133489461, 7.592435788879481, 7.738607050730868, 6.757464641173389, 7.440100882723834, 7.373836354728075, 7.112763320941759, 7.056549057515708, 7.500629247420086, 7.2431836959515286, 6.9979417818288745, 7.722947554768754, 8.232344337651483, 8.428067424539396, 7.112485504445304, 8.78530583954254, 8.181818181818182, 9.052078199441432, 8.689272905119008, 6.521739130434782], \"boxpoints\": false, \"orientation\": \"v\", \"uid\": \"52ac0a92-a8d3-4415-a21a-4b1efcd28c4c\", \"name\": \"07\", \"line\": {\"width\": 1.3}}, {\"type\": \"box\", \"marker\": {\"color\": \"rgba(128, 128, 0, 1.0)\"}, \"y\": [8.319467554076539, 8.413836086008102, 8.49408836341008, 7.7271355267129485, 7.395209580838323, 7.055035128805621, 7.846457804120802, 7.824591573516767, 7.674174960712415, 8.045397225725095, 7.912787849093582, 7.434944237918216, 7.37071048815853, 7.701988421847471, 8.014321123657394, 8.291678917965305, 7.700818765213543, 8.42039281236941, 7.114856918855351, 8.078855817549286, 8.040201005025125, 8.216123499142366, 7.491375061606703, 8.542549722856212, 7.944664031620554], \"boxpoints\": false, \"orientation\": \"v\", \"uid\": \"746d38ce-638d-4fcd-a13d-6b8e91447f5c\", \"name\": \"08\", \"line\": {\"width\": 1.3}}, {\"type\": \"box\", \"marker\": {\"color\": \"rgba(251, 128, 114, 1.0)\"}, \"y\": [9.084858569051582, 9.442193829853537, 10.76540136901058, 9.68910353154241, 9.760479041916167, 9.923887587822014, 8.862545865086085, 9.630266552020636, 9.324253535882661, 10.390920554854981, 9.235668789808917, 9.070631970260223, 9.159014016433058, 7.752328215454317, 8.592674194436794, 8.379888268156424, 9.736667404292985, 9.674049310488925, 10.152881223049784, 9.31580981832238, 7.953560907988217, 7.804459691252144, 8.329226219812716, 8.314313661558526, 13.096179183135707], \"boxpoints\": false, \"orientation\": \"v\", \"uid\": \"1c4113f6-9b5e-40fe-8a81-a66bd55a9df2\", \"name\": \"09\", \"line\": {\"width\": 1.3}}, {\"type\": \"box\", \"marker\": {\"color\": \"rgba(128, 177, 211, 1.0)\"}, \"y\": [8.552412645590682, 8.32034901838579, 9.645301804604854, 9.417446423181406, 9.970059880239521, 8.98711943793911, 9.455263900649168, 8.82774433935225, 9.376636982713462, 8.02017654476671, 9.039686428221462, 8.52540272614622, 8.579023682938617, 6.871381827334508, 7.133021206279262, 7.99764775066157, 8.254038504093826, 8.58754701211868, 7.800862406899254, 7.8469269424043295, 7.173800034656039, 8.198970840480275, 7.984228684080828, 8.852298663188783, 12.173913043478262], \"boxpoints\": false, \"orientation\": \"v\", \"uid\": \"663cfac4-a3bb-46e6-aaaf-c6f35accccdb\", \"name\": \"10\", \"line\": {\"width\": 1.3}}, {\"type\": \"box\", \"marker\": {\"color\": \"rgba(128, 177, 211, 0.8999999999999999)\"}, \"y\": [8.91846921797005, 9.566843253349953, 10.889856876166771, 11.137941442801088, 9.191616766467066, 9.660421545667447, 9.737510584250634, 10.232158211521925, 10.581456259821897, 10.03783102143758, 10.019598236158746, 9.144981412639405, 11.1164813919768, 8.255726151522778, 9.749380335995593, 9.55601293737136, 9.426864350520027, 8.378604262432093, 8.251666013328107, 7.924236567452649, 7.260440131692948, 7.941680960548885, 8.000657138163298, 8.167590479295729, 11.383399209486166], \"boxpoints\": false, \"orientation\": \"v\", \"uid\": \"9bce24e4-dc3b-4974-a9b4-b647d3bcaa00\", \"name\": \"11\", \"line\": {\"width\": 1.3}}, {\"type\": \"box\", \"marker\": {\"color\": \"rgba(255, 153, 51, 0.8999999999999999)\"}, \"y\": [12.312811980033278, 11.436584605796197, 12.165525824517735, 12.888620585571989, 12.305389221556887, 13.026932084309134, 11.628563364380469, 12.439094296359988, 12.755369303300157, 10.441361916771754, 11.78343949044586, 12.01982651796778, 12.083131947800869, 10.344827586206897, 12.062792619113193, 9.938253454866215, 10.356273511838902, 8.378604262432093, 8.545668365346923, 8.484731349052957, 7.399064286952002, 8.49056603773585, 7.45851815344176, 7.7926312357352465, 6.416337285902503], \"boxpoints\": false, \"orientation\": \"v\", \"uid\": \"9ae97df0-c26d-4171-9d77-05292391bdfb\", \"name\": \"12\", \"line\": {\"width\": 1.3}}], {\"title\": \"Months percentage share overall\", \"yaxis\": {\"range\": [0, 50]}}, {\"showLink\": true, \"linkText\": \"Export to plot.ly\", \"plotlyServerURL\": \"https://plot.ly\"})});</script><script type=\"text/javascript\">window.addEventListener(\"resize\", function(){window._Plotly.Plots.resize(document.getElementById(\"47a7e09a-8761-4bb8-b305-ce2293023d5d\"));});</script>"
      ]
     },
     "metadata": {},
     "output_type": "display_data"
    }
   ],
   "source": [
    "import plotly.graph_objs as go    \n",
    "\n",
    "\n",
    "\n",
    "# Taking the percentage of month share for each year separately\n",
    "# bars, to compare months percentage share & how it is changing over years \n",
    "df_main.iplot(kind='bar',barmode='stack',title='Months percentage share over years')\n",
    "\n",
    "\n",
    "# box, to compare the overall months percentage share & to prevent outliers effect when comparing\n",
    "layout = go.Layout(yaxis=dict(range=[0,50]),title='Months percentage share overall')\n",
    "df_main.iplot(kind='box',layout=layout)\n",
    "\n"
   ]
  },
  {
   "cell_type": "markdown",
   "metadata": {},
   "source": [
    "* We can see an increase for the months (9,12).\n",
    "> **hypothesis**: due to Al-hajj & Ramadan seasons. "
   ]
  },
  {
   "cell_type": "markdown",
   "metadata": {},
   "source": [
    "<a id='modeling'></a>\n",
    "\n",
    "## Modeling "
   ]
  },
  {
   "cell_type": "markdown",
   "metadata": {},
   "source": [
    "### Two samples t-test "
   ]
  },
  {
   "cell_type": "markdown",
   "metadata": {},
   "source": [
    "I have decided to use the two samples t-test, simply because it will give us a direct answer to our question.\n",
    "> **Two sampled T-test :** The Independent Samples t Test or 2-sample t-test compares the means of two independent groups in order to determine whether there is statistical evidence that the associated population means are significantly different.\n",
    "\n",
    "> **The null hypothesis for the test:** Mean(Shaban deaths share) > Mean(other months deaths share)\n",
    "\n",
    "> **The alternative hypothesis for the test:** Mean(Shaban deaths share) <= Mean(other months deaths share)"
   ]
  },
  {
   "cell_type": "code",
   "execution_count": 20,
   "metadata": {},
   "outputs": [
    {
     "data": {
      "text/plain": [
       "year\n",
       "1415    8.319468\n",
       "1416    8.413836\n",
       "1417    8.494088\n",
       "1418    7.727136\n",
       "1419    7.395210\n",
       "Name: 08, dtype: float64"
      ]
     },
     "execution_count": 20,
     "metadata": {},
     "output_type": "execute_result"
    }
   ],
   "source": [
    "# preparing the two groups for the test\n",
    "group1 = df_main['08']# Shaban group\n",
    "group1.head()"
   ]
  },
  {
   "cell_type": "code",
   "execution_count": 21,
   "metadata": {},
   "outputs": [
    {
     "data": {
      "text/plain": [
       "year\n",
       "1415    8.334594\n",
       "1416    8.326015\n",
       "1417    8.318719\n",
       "1418    8.388442\n",
       "1419    8.418617\n",
       "dtype: float64"
      ]
     },
     "execution_count": 21,
     "metadata": {},
     "output_type": "execute_result"
    }
   ],
   "source": [
    "# taking the mean for all months each year\n",
    "group2 = df_main.drop(columns=['08']).mean(axis=1) # other months group\n",
    "group2.head()"
   ]
  },
  {
   "cell_type": "markdown",
   "metadata": {},
   "source": [
    "**Normality test before**"
   ]
  },
  {
   "cell_type": "markdown",
   "metadata": {},
   "source": [
    "* Group1:"
   ]
  },
  {
   "cell_type": "code",
   "execution_count": 22,
   "metadata": {},
   "outputs": [
    {
     "name": "stdout",
     "output_type": "stream",
     "text": [
      "Statistics=0.968, p=0.604\n",
      "Sample looks Gaussian (fail to reject H0)\n"
     ]
    }
   ],
   "source": [
    "from scipy.stats import shapiro\n",
    "# normality test\n",
    "stat, p = shapiro(group1)\n",
    "print('Statistics=%.3f, p=%.3f' % (stat, p))\n",
    "# interpret\n",
    "alpha = 0.05\n",
    "if p > alpha:\n",
    "    print('Sample looks Gaussian (fail to reject H0)')\n",
    "else:\n",
    "    print('Sample does not look Gaussian (reject H0)')"
   ]
  },
  {
   "cell_type": "markdown",
   "metadata": {},
   "source": [
    "* Group2:"
   ]
  },
  {
   "cell_type": "code",
   "execution_count": 23,
   "metadata": {},
   "outputs": [
    {
     "name": "stdout",
     "output_type": "stream",
     "text": [
      "Statistics=0.968, p=0.604\n",
      "Sample looks Gaussian (fail to reject H0)\n"
     ]
    }
   ],
   "source": [
    "\n",
    "# normality test\n",
    "stat, p = shapiro(group2)\n",
    "print('Statistics=%.3f, p=%.3f' % (stat, p))\n",
    "# interpret\n",
    "alpha = 0.05\n",
    "if p > alpha:\n",
    "    print('Sample looks Gaussian (fail to reject H0)')\n",
    "else:\n",
    "    print('Sample does not look Gaussian (reject H0)')"
   ]
  },
  {
   "cell_type": "markdown",
   "metadata": {},
   "source": [
    "**T-test:**\n",
    "> https://www.statsmodels.org/dev/generated/statsmodels.stats.weightstats.ttest_ind.html"
   ]
  },
  {
   "cell_type": "code",
   "execution_count": 24,
   "metadata": {},
   "outputs": [
    {
     "name": "stdout",
     "output_type": "stream",
     "text": [
      "p-values =  2.2742567544460084e-07\n",
      "\n",
      " we are rejecting null hypothesis\n"
     ]
    }
   ],
   "source": [
    "from statsmodels.stats.weightstats import ttest_ind\n",
    "\n",
    "# null hypothesis (H0) = mean(group1) > mean(group2)\n",
    "tset, pval, _ = ttest_ind(x1=group1,# Shaban group\n",
    "                          x2=group2,# other months group\n",
    "                          alternative='smaller',# the alternative mean is smaller then the null mean \n",
    "                          )\n",
    "\n",
    "print('p-values = ',pval)\n",
    "\n",
    "if pval < 0.05:    # alpha value is 0.05 or 5%\n",
    "    print(\"\\n we are rejecting null hypothesis\")\n",
    "else:\n",
    "    print(\"we are accepting null hypothesis\")\n"
   ]
  },
  {
   "cell_type": "markdown",
   "metadata": {},
   "source": [
    "<a id='Summary'></a>\n",
    "## Summary"
   ]
  },
  {
   "cell_type": "markdown",
   "metadata": {},
   "source": [
    "> **To answer the main question, We can conclude with confidence that the number of deaths that are happening in the month of Shaban is not more significant from other months deaths rate. In fact, it might be even smaller compared to some specific months (like 12), I believe this is happening because of Al-Hajj season where a lot of Muslims are coming from around the world to Saudi Arabia, which indeed affect our results and the study.**  \n"
   ]
  },
  {
   "cell_type": "markdown",
   "metadata": {},
   "source": [
    "<a id='Resources'></a>\n",
    "## Resources"
   ]
  },
  {
   "cell_type": "markdown",
   "metadata": {},
   "source": [
    "* https://services.amana-md.gov.sa/eservicesite/Inq/DeathInquiry.aspx"
   ]
  },
  {
   "cell_type": "code",
   "execution_count": 25,
   "metadata": {},
   "outputs": [
    {
     "name": "stdout",
     "output_type": "stream",
     "text": [
      "[NbConvertApp] Converting notebook The_main_notebook.ipynb to html\n",
      "[NbConvertApp] Writing 348405 bytes to The_main_notebook.html\n"
     ]
    }
   ],
   "source": [
    "!jupyter nbconvert --to html The_main_notebook.ipynb"
   ]
  }
 ],
 "metadata": {
  "kernelspec": {
   "display_name": "Python 3",
   "language": "python",
   "name": "python3"
  },
  "language_info": {
   "codemirror_mode": {
    "name": "ipython",
    "version": 3
   },
   "file_extension": ".py",
   "mimetype": "text/x-python",
   "name": "python",
   "nbconvert_exporter": "python",
   "pygments_lexer": "ipython3",
   "version": "3.5.5"
  }
 },
 "nbformat": 4,
 "nbformat_minor": 2
}
